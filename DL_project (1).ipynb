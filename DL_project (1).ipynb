{
  "cells": [
    {
      "cell_type": "markdown",
      "metadata": {
        "id": "G-Gmc4B0U6-3"
      },
      "source": [
        "# **Underwater Image Enhancement with Reinforcement Learning**"
      ]
    },
    {
      "cell_type": "markdown",
      "metadata": {
        "id": "k9XiQkXjU3g6"
      },
      "source": [
        "# Description of the problem\n"
      ]
    },
    {
      "cell_type": "markdown",
      "metadata": {
        "id": "1lUTiiaLF54B"
      },
      "source": [
        "The Underwater Image Enhancement problem concerns the enhancement of underwater images and is attracting much attention due to its importance in marine engineering and aquatic robotics. This is a challenging task due to a number of issues arising from the environment in which such photos are taken.\n",
        "\n",
        "The main problems are caused by two phenomena: **scattering**, i.e. the presence of particles such as dust and plankton, and **absorption**, the absorption due to the wavelength which alters the color of the image by making it darker and changing its dominant color."
      ]
    },
    {
      "cell_type": "markdown",
      "metadata": {
        "id": "9KDgpQQLTar6"
      },
      "source": [
        "# Import delle librerie"
      ]
    },
    {
      "cell_type": "code",
      "execution_count": null,
      "metadata": {
        "id": "wtQ6-ajjbdb6"
      },
      "outputs": [],
      "source": [
        "#force package installation \n",
        "!pip install split-folders"
      ]
    },
    {
      "cell_type": "markdown",
      "metadata": {
        "id": "aEU4AvR6Qur0"
      },
      "source": [
        "In this section, the necessary modules are imported.\n",
        "\n",
        "Specifically, the library is imported\n",
        "**OpenAI**\n",
        "[**Gym**](https://www.gymlibrary.ml/), a toolkit, developed by the company [**OpenAI**](https://openai.com/), which provides an intelligence benchmark easy to set up with a wide variety of different environments for developing and comparing reinforcement learning algorithms."
      ]
    },
    {
      "cell_type": "code",
      "execution_count": null,
      "metadata": {
        "id": "K73cJePNTPKQ"
      },
      "outputs": [],
      "source": [
        "import os\n",
        "#configuration that avoid useful log when run notebook on cluster \n",
        "'''\n",
        "os.environ['TF_CPP_MIN_LOG_LEVEL'] = '2'\n",
        "import tensorflow as tf\n",
        "print(\"Num GPUs Available: \", len(tf.config.list_physical_devices('GPU')))\n",
        "'''\n",
        "\n",
        "from tensorflow import keras\n",
        "from keras import layers, Sequential\n",
        "from keras.preprocessing.image import ImageDataGenerator\n",
        "from keras.applications import VGG19\n",
        "from keras.applications.vgg19 import decode_predictions, preprocess_input #used for numpy tensor preprocessing\n",
        "from keras.optimizers import Adam\n",
        "from keras.losses import categorical_crossentropy, MeanAbsoluteError, MeanSquaredError\n",
        "from keras.models import Model #used for extracting features from an arbitrary hidden layer in vgg\n",
        "from keras.utils import get_file, load_img, plot_model\n",
        "\n",
        "import numpy as np\n",
        "import glob\n",
        "import cv2 as cv\n",
        "import time #used for calculate training and steps duration\n",
        "\n",
        "from matplotlib import pyplot as plt\n",
        "from skimage.metrics import structural_similarity, peak_signal_noise_ratio, mean_squared_error\n",
        "from statistics import mean\n",
        "from random import sample, randrange #used to sample indexes from ddqn memory and to choose the exploration action\n",
        "from splitfolders import ratio as splitfolders_ratio\n",
        "from shutil import rmtree\n",
        "from imgaug import augmenters as iaa #used for sharpen and emboss actions\n",
        "from itertools import combinations_with_replacement\n",
        "from collections import defaultdict\n",
        "from PIL import ImageEnhance, Image\n",
        "from IPython.display import clear_output #used for cleaning too long cells output\n",
        "\n",
        "from gym import Env #used for implementing environment\n",
        "from gym.spaces import Box, Discrete"
      ]
    },
    {
      "cell_type": "markdown",
      "metadata": {
        "id": "fK1Moh1PiHc1"
      },
      "source": [
        "#Utility functions\n"
      ]
    },
    {
      "cell_type": "markdown",
      "metadata": {
        "id": "sO7irANCKjIC"
      },
      "source": [
        "Some utility functions are defined.\n",
        "The most important are:\n",
        "\n",
        "- `plot_training_rewards` plots the progress of the total reward and its moving average reached during the different episodes of the training process in a graph.\n",
        "  * `rewards`: vector of rewards to be plotted\n",
        "  * `moving_avg_window_size`: number of consecutive episodes considered in the calculation of the moving average of the total reward\n",
        "\n",
        "- `show_image_grid` allows you to print a configurable grid of random images sampled from a source folder\n",
        "  * `image_path`: path to the folder from which to sample images to display\n",
        "  * `grid_size`: pair of values ​​that define the size of the grid in terms of the number of images on each axis\n",
        "  * `image_size`: size of the images on the grid\n",
        "\n",
        "- `compare_images` prints multiple images side by side, with title\n",
        "  * `images`: vector of images to display\n",
        "  * `titles`: vector of the titles of the images, useful for making the print readable\n",
        "  * `image_size`: image display size\n",
        "\n",
        "- `display_image` allows you to print an image\n",
        "  * `image`: image to display"
      ]
    },
    {
      "cell_type": "code",
      "execution_count": null,
      "metadata": {
        "id": "HzU9300owite"
      },
      "outputs": [],
      "source": [
        "def plot_training_rewards(rewards,moving_avg_window_size=None):\n",
        "  if moving_avg_window_size is not None:\n",
        "    moving_avg_total_reward=[]\n",
        "    for i in range(len(rewards)):\n",
        "      window=rewards[max(0,i-moving_avg_window_size+1):i+1]\n",
        "      window_avg=mean(window)\n",
        "      moving_avg_total_reward.append(window_avg)\n",
        "\n",
        "  fig, ax = plt.subplots(figsize=(15, 5))\n",
        "\n",
        "  ax.plot(range(len(rewards)),rewards,label='Total reward',color='orange')\n",
        "  ax.set_xlabel('Episodes')\n",
        "  if moving_avg_window_size is not None:\n",
        "    ax.plot(range(len(moving_avg_total_reward)),moving_avg_total_reward,label='Total reward moving average')\n",
        "    ax.legend(loc='upper left')\n",
        "\n",
        "def show_image_grid(image_path, grid_size, image_size):\n",
        "  fig = plt.figure(figsize=image_size)\n",
        "  rows, columns = grid_size\n",
        "  for i in range(1, columns*rows +1):\n",
        "      fn = np.random.choice(image_path)\n",
        "      img = Image.open(fn)\n",
        "      fig.add_subplot(rows, columns, i)\n",
        "      plt.axis('off')\n",
        "      plt.imshow(img)\n",
        "  plt.show()\n",
        "\n",
        "#for comparing raw and ref visually\n",
        "def compare_images(images, titles, image_size):\n",
        "  number_of_images = len(images)\n",
        "  fig, axes = plt.subplots(1, number_of_images, figsize=image_size)\n",
        "  for i in range(number_of_images):\n",
        "    axes[i].imshow(images[i])\n",
        "    axes[i].set_title(titles[i])\n",
        "    axes[i].axis('off')\n",
        "  plt.show()\n",
        "\n",
        "def display_image(image) -> None:\n",
        "    \"\"\"\n",
        "    display an image\n",
        "    \n",
        "    Arguments:\n",
        "        filename: str - path to filename containing image\n",
        "    \"\"\"\n",
        "    plt.figure()\n",
        "    plt.imshow(image)"
      ]
    },
    {
      "cell_type": "markdown",
      "metadata": {
        "id": "vbzdard_K-_B"
      },
      "source": [
        "# Dataset\n"
      ]
    },
    {
      "cell_type": "markdown",
      "metadata": {
        "id": "3SKPsz3YF-Bi"
      },
      "source": [
        "The following [**dataset**](https://li-chongyi.github.io/proj_benchmark.html) contains 890 raw images (**raw images**) with corresponding high quality reference images (** reference images**).\n",
        "In addition it contains 60 images without the analogous reference, defined as **challenge images**.\n",
        "\n",
        "In recent years several algorithms have been proposed for the Underwater Image Enhancement problem. However these are often evaluated using synthetic datasets or a few images selected from the real world. It is therefore not very clear how these algorithms would perform on images acquired in the wild and how progress could be measured in the field. To fill this gap it was decided to use this dataset which contains large-scale real-world images. Thus it allows to carry out a complete study of the algorithms for improving underwater images."
      ]
    },
    {
      "cell_type": "code",
      "execution_count": null,
      "metadata": {
        "id": "t93lQPiaOego"
      },
      "outputs": [],
      "source": [
        "#variable with path to just-downloaded dataset and post-splitting dataset\n",
        "dataset_path= '/content/underwater_dataset'\n",
        "splitted_dataset_path = '/content/splitted_dataset'"
      ]
    },
    {
      "cell_type": "markdown",
      "metadata": {
        "id": "Nz8ampQ0CRJf"
      },
      "source": [
        "## Download"
      ]
    },
    {
      "cell_type": "code",
      "execution_count": null,
      "metadata": {
        "id": "cAgC1SQ-A8Gg"
      },
      "outputs": [],
      "source": [
        "#create an empty folder to store the dataset\n",
        "!mkdir underwater_dataset"
      ]
    },
    {
      "cell_type": "markdown",
      "metadata": {
        "id": "RSrS6Bb_burT"
      },
      "source": [
        "### Raw image download"
      ]
    },
    {
      "cell_type": "code",
      "execution_count": null,
      "metadata": {
        "id": "ttLq9Ja_CTzD"
      },
      "outputs": [],
      "source": [
        "zipped_dataset_path_raw= \"/content/raw_underwater_rar.rar\"\n",
        "path_to_downloaded_file = get_file(\n",
        "    zipped_dataset_path_raw,\n",
        "    \"https://drive.google.com/u/0/uc?id=12W_kkblc2Vryb9zHQ6BfGQ_NKUfXYk13&export=download&confirm=t&uuid=a911e909-c2fa-4fd4-8231-995cd8aba324\")\n",
        "\n",
        "#extract images from zip file\n",
        "!unrar x -Y /content/raw_underwater_rar.rar -p1234567 underwater_dataset\n",
        "#delete zip file after extraction\n",
        "os.remove(zipped_dataset_path_raw)\n",
        "#clean the output after dowload\n",
        "clear_output(wait=False)"
      ]
    },
    {
      "cell_type": "markdown",
      "metadata": {
        "id": "0xLaTAafZe7c"
      },
      "source": [
        "### Reference image download"
      ]
    },
    {
      "cell_type": "code",
      "execution_count": null,
      "metadata": {
        "id": "YW9dPQNVZYYM"
      },
      "outputs": [],
      "source": [
        "zipped_dataset_path_ref= \"/content/ref_underwater_rar.rar\"\n",
        "path_to_downloaded_file = get_file(\n",
        "    zipped_dataset_path_ref,\n",
        "    \"https://drive.google.com/u/0/uc?id=1cA-8CzajnVEL4feBRKdBxjEe6hwql6Z7&export=download&confirm=t&uuid=1d35640a-aba9-4b79-b86b-fe3d1d8b947e\")\n",
        "\n",
        "#extract images from zip file\n",
        "!unrar x -Y /content/ref_underwater_rar.rar -p8901234 underwater_dataset\n",
        "#delete zip file after extraction\n",
        "os.remove(zipped_dataset_path_ref)\n",
        "#clean the output after dowload\n",
        "clear_output(wait=False)"
      ]
    },
    {
      "cell_type": "markdown",
      "metadata": {
        "id": "dQWz0FQ7ecqr"
      },
      "source": [
        "## Splitting\n"
      ]
    },
    {
      "cell_type": "markdown",
      "metadata": {
        "id": "N1dFsLWMecqr"
      },
      "source": [
        "The dataset is divided into three sets: training, validation and test set. The training sessions are conducted on the **training set**, changing the hyperparameters in order to obtain different models with different performances. Among these models, the one that achieves the best performance on the **validation set** is selected, evaluated with respect to the selected metrics. Finally the performance analysis is conducted using the model selected on the **test set**.\n",
        "\n",
        "`split_dataset` is the function used to split the dataset into training sets, validation sets and test sets (dimensions are expressed in tenths: e.g. 0.2 corresponds to 20% of the total)\n",
        "  * `training_set_size`: size of the training set\n",
        "  * `test_set_size`: size of the test set\n",
        "  * `validation_set_size`: size of the validation set\n",
        "\n",
        "The `splitfolder` library is used to partition the dataset and obtain the following folder hierarchy:\n",
        "\n",
        "* /content/splitted_dataset\n",
        "  * /train\n",
        "    * /raw-890\n",
        "    * /reference-890\n",
        "  * /test\n",
        "    * /raw-890\n",
        "    * /reference-890\n",
        "  * /val\n",
        "    * /raw-890\n",
        "    * /reference-890"
      ]
    },
    {
      "cell_type": "code",
      "execution_count": null,
      "metadata": {
        "id": "Vk10q9D1ecqs"
      },
      "outputs": [],
      "source": [
        "def split_dataset(training_set_size, test_set_size, validation_set_size):\n",
        "\n",
        "  if os.path.isdir(splitted_dataset_path):\n",
        "      rmtree(splitted_dataset_path)\n",
        "\n",
        "  splitfolders_ratio(\n",
        "      dataset_path,\n",
        "      output=splitted_dataset_path,\n",
        "      ratio=(training_set_size, test_set_size, validation_set_size)\n",
        "  )\n",
        "  \n",
        "  #rmtree(dataset_path)"
      ]
    },
    {
      "cell_type": "markdown",
      "metadata": {
        "id": "SnL9QeNRMGAf"
      },
      "source": [
        "The table below shows the data relating to the subdivision made for the experiment:\n",
        "\n",
        "Together      | percentuale | number of images\n",
        "---            | ---         | ---\n",
        "Training set   | 60%         | 534\n",
        "Test set       | 20%         | 178\n",
        "Validation set | 20%         | 178\n",
        "**totale**     | **100%**    | **890**"
      ]
    },
    {
      "cell_type": "code",
      "execution_count": null,
      "metadata": {
        "id": "coK1__FaMH3u"
      },
      "outputs": [],
      "source": [
        "training_set_size = 0.6\n",
        "test_set_size = 0.2\n",
        "validation_set_size = 0.2\n",
        "\n",
        "split_dataset(training_set_size, test_set_size, validation_set_size)"
      ]
    },
    {
      "cell_type": "markdown",
      "metadata": {
        "id": "BIT7Svj90XdX"
      },
      "source": [
        "## Analisi"
      ]
    },
    {
      "cell_type": "code",
      "execution_count": null,
      "metadata": {
        "id": "emYv35tqEZQP"
      },
      "outputs": [],
      "source": [
        "# sort and store images in utility variables and print image number for validation purpose\n",
        "# glob: finds all pathnames matching a specified pattern\n",
        "images_raw = sorted(glob.glob(dataset_path + '/raw-890/*.png'), key=len)\n",
        "images_ref = sorted(glob.glob(dataset_path + '/reference-890/*.png'),key=len)\n",
        "print(\"Total number of raw images: \", len(images_raw))\n",
        "print(\"Total number of reference images: \", len(images_ref))\n",
        "\n",
        "images_raw_train = sorted(glob.glob(splitted_dataset_path + '/train/raw-890/*.png'), key=len)\n",
        "images_raw_test = sorted(glob.glob(splitted_dataset_path + '/test/raw-890/*.png'), key=len)\n",
        "images_raw_val = sorted(glob.glob(splitted_dataset_path + '/val/raw-890/*.png'), key=len)\n",
        "print(\"Total number of raw images for training: \", len(images_raw_train))\n",
        "print(\"Total number of raw images for validation: \", len(images_raw_val))\n",
        "print(\"Total number of raw images for testing: \", len(images_raw_test))\n",
        "\n",
        "images_ref_train = sorted(glob.glob(splitted_dataset_path + '/train/reference-890/*.png'),key=len)\n",
        "images_ref_test = sorted(glob.glob(splitted_dataset_path + '/test/reference-890/*.png'),key=len)\n",
        "images_ref_val = sorted(glob.glob(splitted_dataset_path + '/val/reference-890/*.png'),key=len)\n",
        "print(\"Total number of reference images for training: \", len(images_ref_train))\n",
        "print(\"Total number of reference images for validation: \", len(images_ref_val))\n",
        "print(\"Total number of reference images for testing: \", len(images_ref_test))"
      ]
    },
    {
      "cell_type": "markdown",
      "metadata": {
        "id": "Nj373fbZYES8"
      },
      "source": [
        "`sample_images` is a function used to sample a raw image and its reference from the selected set (training, test or validation)\n",
        "  * `source` indicates the set from which to sample the image, \"test\" for the test set, \"val\" for the validation set, and any other values ​​for the training set\n",
        "  * `target_size` defines the size of the image, if omitted the original size is used"
      ]
    },
    {
      "cell_type": "code",
      "execution_count": null,
      "metadata": {
        "id": "HO9jrnv0lzy5"
      },
      "outputs": [],
      "source": [
        "def sample_images(source=\"train\", target_size=None):\n",
        "  \n",
        "  if source == \"test\":\n",
        "    random_img_path = np.random.choice(images_raw_test)\n",
        "  elif source == \"val\":\n",
        "    random_img_path = np.random.choice(images_raw_val)\n",
        "  else:\n",
        "    random_img_path = np.random.choice(images_raw_train)\n",
        "\n",
        "  random_img=random_img_path.split('/').pop()\n",
        "\n",
        "  file_raw = splitted_dataset_path + '/' + source + '/raw-890/' + random_img\n",
        "  raw_img= load_img(path=file_raw,target_size=target_size)\n",
        "  file_ref = splitted_dataset_path + '/' + source + '/reference-890/' + random_img\n",
        "  ref_img = load_img(path=file_ref,target_size=target_size)\n",
        "\n",
        "  return raw_img,ref_img"
      ]
    },
    {
      "cell_type": "markdown",
      "metadata": {
        "id": "Mycx9aiUGKhw"
      },
      "source": [
        "As an example, some raw images randomly sampled from the dataset are displayed. Subsequently, given a randomly selected raw image, the reference image associated with it is also displayed, in such a way as to carry out a visual comparison."
      ]
    },
    {
      "cell_type": "code",
      "execution_count": null,
      "metadata": {
        "id": "ouIaBTAVteLk"
      },
      "outputs": [],
      "source": [
        "#random raw images visualization\n",
        "show_image_grid(image_path=images_raw, grid_size=(3, 6), image_size=(16, 8))\n",
        "\n",
        "#raw-reference images visualization\n",
        "for i in range(1, 4):\n",
        "      raw_img,ref_img = sample_images()\n",
        "      compare_images([raw_img, ref_img], ['Raw image', 'Reference image'], (14, 14))\n",
        "plt.show()"
      ]
    },
    {
      "cell_type": "markdown",
      "metadata": {
        "id": "H4C0gfbGCac5"
      },
      "source": [
        "#**Underwater Image Enhancement con il Reinforcement Learning**"
      ]
    },
    {
      "cell_type": "markdown",
      "metadata": {
        "id": "MtvxEeJnXNYw"
      },
      "source": [
        "Existing approaches used to address Underwater Image Enhancement have some **limitations**:\n",
        "\n",
        "* Due to the complexity of the underwater environment, a single image processing method is unable to adapt to different scenes (such as different turbidities, different light conditions, and shooting from different angles), resulting in inconsistent performance (inaccurate or incorrect enhancements ).\n",
        "\n",
        "* Models based on Deep Learning methods which are normally structured with an end-to-end network, apply an elaboration that is in fact a black box, reducing the explainability of the model and preventing the drawing of ideas for its improvement.\n",
        "\n",
        "* Training a deep network requires a large number of pairs of training data, formed by a raw image and a reference image, considered the ground truth and obtained through selection made by expert users, since it is not possible to have an image actual ground truth. The reference image for models of this type acts as an upper limit on the quality of the image obtained starting from the raw image, preventing the generation of better images.\n",
        "\n",
        "Reinforcement Learning presents itself as an effective method to overcome these limitations. In fact, a strategy is provided to organize an optimal sequence of actions that exploit basic image enhancement methods to achieve an effective overall image enhancement as a goal, as can be seen in the figure below. Each action in the optimal sequence consists of a specific image processing technique so that the whole sequence of actions is transparent.\n",
        "\n",
        "Furthermore, the possibility of carrying out both exploration and exploitation could also allow to obtain images of better quality than the reference image.\n",
        "\n",
        "The model solves a Markov Decision Process (MDP) which consists in the interaction at each step $t$ between an **agent** and an **environment**. The MDP consists of four components:\n",
        "\n",
        "* a **state** $s_t \\in S$ which consists of the set of information that the agent perceives from the environment: in our case the state consists of the features extracted from the images of the environment.\n",
        "* an **action** $a_t \\in A$ which consists of any behavior that the agent can perform in the environment: in our case we are dealing with image enhancement operations.\n",
        "* a **reward** $r_t \\in R$ which is a feedback that the agent receives from the environment after performing an action: in our case the reward defines how much the action produces a result closer to the image ground truth with respect to the starting image.\n",
        "* a **policy** $\\Omega_\\theta$ i.e. the strategy that the agent applies to decide what will be its next action based on its current state.\n",
        "\n",
        "<div>\n",
        "<img src=\"https://drive.google.com/uc?id=1UwwcV3C-_l-Z7VXDclhyf74ewYX-03vt\" width=\"1000\"/>\n",
        "</div>"
      ]
    },
    {
      "cell_type": "markdown",
      "metadata": {
        "id": "5u58O1-rCis3"
      },
      "source": [
        "## **Framework generale**\n",
        "\n"
      ]
    },
    {
      "cell_type": "markdown",
      "metadata": {
        "id": "VI4dKmjyOWP5"
      },
      "source": [
        "The general framework used consists of four parts:\n",
        "\n",
        "1. **Feature extraction module**: Extracts features from an image. The extracted features will make up the states\n",
        "2. **Deep Q-Network**: takes a state as input and returns a $Q(s,a)$ value for each action\n",
        "3. **Action selection form**: Choose an action using a ϵ-greedy policy\n",
        "4. **Calculation of the reward** in terms of image improvement. This part is present only in the training phase\n",
        "\n",
        "An example framework graph is shown below:\n",
        "\n",
        "<div>\n",
        "<img src=\"https://drive.google.com/uc?id=1CakA90pErEueJYFttAVgBEuugUt9hNHG\" width=\"1000\"/>\n",
        "</div>"
      ]
    },
    {
      "cell_type": "code",
      "execution_count": null,
      "metadata": {
        "id": "R829jrweHxRp"
      },
      "outputs": [],
      "source": [
        "#loading a random image for testing purpose\n",
        "random_image,random_reference = sample_images(target_size=(224,224))\n",
        "compare_images([random_image, random_reference], ['Raw image', 'Reference image'], (10, 10))"
      ]
    },
    {
      "cell_type": "markdown",
      "metadata": {
        "id": "XDExJ-aneQp4"
      },
      "source": [
        "### Actions"
      ]
    },
    {
      "cell_type": "markdown",
      "metadata": {
        "id": "QhlezodnFPpy"
      },
      "source": [
        "**Image enhancement** techniques are used as actions. Below are the four categories of techniques used, each of which is followed by a detailed list of the technical specifications belonging to the category itself:\n",
        "\n",
        "**Basic settings**\n",
        "1. Brightness +5%\n",
        "2. Brightness -5%\n",
        "3. Contrast +5%\n",
        "4. Contrast -5%\n",
        "5. Color saturation +5%\n",
        "6. Color saturation -5%\n",
        "\n",
        "**Color Adjustments**\n",
        "7.Red +5%\n",
        "8.Red -5%\n",
        "9.Green +5%\n",
        "10.Green -5%\n",
        "11.Blue +5%\n",
        "12.Blue -5%\n",
        "\n",
        "**Corrections**\n",
        "13. Gamma + transformation\n",
        "14. Gamma Transformation -\n",
        "15. HE\n",
        "16. CLAHE\n",
        "17. White Balance\n",
        "\n",
        "**Deblurring**\n",
        "18. Sharpen\n",
        "19. Emboss\n",
        "20. DCPs\n",
        "\n",
        "The less intuitive actions are described in the following subsections.\n",
        "\n",
        "`apply_action` is a function that allows you to apply an action on an image and return the enhanced image as a result.\n",
        "  * `action_code` is the code of the action to apply\n",
        "  * `img` is the image on which to apply the selected action"
      ]
    },
    {
      "cell_type": "code",
      "execution_count": null,
      "metadata": {
        "id": "t3dZUmjP7Hg2"
      },
      "outputs": [],
      "source": [
        "actions_number = 20\n",
        "\n",
        "seq_sharpen = iaa.Sequential([\n",
        "  iaa.Sharpen(alpha=.05)\n",
        "])\n",
        "seq_emboss = iaa.Sequential([\n",
        "  iaa.Emboss(alpha=.05)\n",
        "])\n",
        "\n",
        "#img -> image loaded with PIL module\n",
        "def apply_action(action_code, img):\n",
        "\n",
        "  #brightness +/- 5%\n",
        "  if action_code in [0,1]:\n",
        "    factor = 1.05 if action_code == 0 else 0.95 \n",
        "    converter = ImageEnhance.Brightness(img)\n",
        "    return converter.enhance(factor)\n",
        "\n",
        "  #contrast +/- 5%\n",
        "  elif action_code in [2,3]:\n",
        "    factor = 1.05 if action_code == 2 else 0.95\n",
        "    converter = ImageEnhance.Contrast(img)\n",
        "    return converter.enhance(factor)\n",
        "\n",
        "  #color saturation +/- 5%\n",
        "  elif action_code in [4,5]:\n",
        "    factor = 1.05 if action_code == 4 else 0.95\n",
        "    converter = ImageEnhance.Color(img)\n",
        "    return converter.enhance(factor)\n",
        "  \n",
        "  #change color channel intensity\n",
        "  elif action_code in [6,7,8,9,10,11]:\n",
        "    factor = 1.05 if action_code in [6,8,10] else 0.95\n",
        "\n",
        "    #split into 3 channels\n",
        "    red,green,blue = img.split()\n",
        "\n",
        "    #increase channel intensity\n",
        "    if action_code in [6,7]: red = red.point(lambda i: i*factor)\n",
        "    elif action_code in [8,9]: green = green.point(lambda i: i*factor)\n",
        "    else: blue = blue.point(lambda i: i*factor)\n",
        "\n",
        "    return Image.merge(\"RGB\", (red,green,blue))\n",
        "\n",
        "  else:\n",
        "    img_array = np.array(img) #the PIL image should be transformed in numpy array\n",
        "\n",
        "    #gamma correction\n",
        "    if action_code in [12,13]:\n",
        "      gamma = 1.5 if action_code == 12 else 0.5\n",
        "      return gammaCorrection(img_array,gamma)\n",
        "    #he,claheq, white balance\n",
        "    elif action_code in [14,15,16]:\n",
        "      opencv_image=cv.cvtColor(img_array, cv.COLOR_RGB2BGR) #convert to opencv image\n",
        "      if action_code == 14: \n",
        "        #he\n",
        "        return heq(opencv_image)\n",
        "      elif action_code == 15:\n",
        "        #clahe\n",
        "        return claheq(opencv_image)\n",
        "      else: \n",
        "        #white balance\n",
        "        return white_balance(opencv_image)\n",
        "\n",
        "    #sharpen & emboss\n",
        "    elif action_code in [17,18]:\n",
        "      img_array = np.expand_dims(img_array, axis=0)\n",
        "      if action_code == 17: modified_array = seq_sharpen(images=img_array)\n",
        "      else: modified_array = seq_emboss(images=img_array)   \n",
        "      return Image.fromarray(modified_array[0])\n",
        "\n",
        "    #DCP\n",
        "    elif action_code == 19:\n",
        "      ## convert to a openCV image\n",
        "      opencv_image=cv.cvtColor(img_array, cv.COLOR_RGB2BGR) \n",
        "      #with pipe filtering\n",
        "      #return dehaze(opencv_image)\n",
        "      ##without pipe filtering -> operation will be more fast\n",
        "      return dehaze(opencv_image,refine=False)\n",
        "\n",
        "    else:\n",
        "      print(\"unsupported action\", action_code)\n",
        "      return img"
      ]
    },
    {
      "cell_type": "markdown",
      "metadata": {
        "id": "4GGnlqiw9OVE"
      },
      "source": [
        "#### White balance"
      ]
    },
    {
      "cell_type": "markdown",
      "metadata": {
        "id": "Zcs5S_s9GDxa"
      },
      "source": [
        "White Balance (WB) is used to eliminate color casts to return to an all-white light beam, i.e. where all colors are present in the same amount.\n",
        "The Grayworld algorithm is used for the implementation.\n",
        "\n",
        "**Grayworld assumption**\n",
        "\n",
        "Assuming a good distribution of colors in the scene, the *Grayworld assumption* is based on the assumption that, on average, the real world tends to gray and estimates the color of the light using the average color of all pixels. It is assumed that the information, given by the average of each channel of the image, is representative of the gray level.\n",
        "\n",
        "The reason for transforming the input image to the CIELAB color space is to estimate the light source. It consists of two chromatic components a and b, and a third component that expresses the degree of luminosity, unrelated to them. The latter does not contain any color information.\n"
      ]
    },
    {
      "cell_type": "code",
      "execution_count": null,
      "metadata": {
        "id": "VvkRWLcXN2R8"
      },
      "outputs": [],
      "source": [
        "#white balance here\n",
        "#https://pippin.gimp.org/image-processing/chapter-automaticadjustments.html#\n",
        "\n",
        "def white_balance(opencv_image): \n",
        "    '''\n",
        "    ps:need to do some fixes for cv corrections\n",
        "    #L: L / 100 * 255\n",
        "    #A: A + 128\n",
        "    #B: B + 128\n",
        "    '''\n",
        "    result = cv.cvtColor(opencv_image, cv.COLOR_BGR2LAB)\n",
        "    '''1) first find average color in CIE Lab space'''\n",
        "    avg_a = np.average(result[:, :, 1])\n",
        "    avg_b = np.average(result[:, :, 2])\n",
        "    '''2) scale the chroma distance shifted according to amount of luminance. The 1.1 overshoot is because \n",
        "    we cannot be sure to have gotten the data in the first place.'''\n",
        "    result[:, :, 1] = result[:, :, 1] - ((avg_a - 128) * (result[:, :, 0] / 255.0) * 1.1)\n",
        "    result[:, :, 2] = result[:, :, 2] - ((avg_b - 128) * (result[:, :, 0] / 255.0) * 1.1)\n",
        "    resultPil=cv.cvtColor(result,cv.COLOR_LAB2RGB)\n",
        "    pil_image=Image.fromarray(resultPil)\n",
        "\n",
        "    return pil_image"
      ]
    },
    {
      "cell_type": "code",
      "execution_count": null,
      "metadata": {
        "id": "215G4JkW9D7h"
      },
      "outputs": [],
      "source": [
        "white_balanced_opencv=apply_action(action_code=16,img=random_image)\n",
        "\n",
        "compare_images([random_image, white_balanced_opencv], ['Raw image', 'White balanced image'], (10, 10))"
      ]
    },
    {
      "cell_type": "markdown",
      "metadata": {
        "id": "9ElN-o6tDbAQ"
      },
      "source": [
        "####Dark Channel Prior (DCP)"
      ]
    },
    {
      "cell_type": "markdown",
      "metadata": {
        "id": "vFW-FaGNatFY"
      },
      "source": [
        "This technique, which is usually used for haze removal in images of outdoor scenes, has also been widely used for underwater image recovery.\n",
        "\n",
        "For further information on the DCP, refer to the paper [3] in the section *Literature references*\n",
        "\n",
        "* It is implemented in the **dehaze()** function.\n",
        "\n",
        "* The guided_filter() function is additional, and is used to refine the image obtained by dehaze(), which can sometimes be a bit grainy."
      ]
    },
    {
      "cell_type": "code",
      "execution_count": null,
      "metadata": {
        "id": "dOfcZyvc2rf0"
      },
      "outputs": [],
      "source": [
        "\"\"\"Implementation for Guided Image Filtering\n",
        "   -  The main reason is that the transmitter map obtained by the dehazing\n",
        "    is too rough, and He Kai Ming puts forward Soft Matting method in the article, and then its disadvantage is very slow, \n",
        "    not applicable in real-time occasions, 2011, It can be used to obtain more delicate results in a manner that is used, \n",
        "    and this method is mainly concentrated in block filtering (mean filtering).\n",
        "     Can be used in consideration.\n",
        "   -  guided_filter() used here comes from https://github.com/joyeecheung/dark-channel-prior-dehazing/blob/master/src/guidedfilter.py\n",
        "   -  for more informations about the algorithm read the docs here https://github.com/joyeecheung/dark-channel-prior-dehazing/tree/master/doc\n",
        "\"\"\"\n",
        "R, G, B = 0, 1, 2  # index for convenience\n",
        "\n",
        "def boxfilter(I, r):\n",
        "    \"\"\"Fast box filter implementation.\n",
        "    Parameters\n",
        "    ----------\n",
        "    I:  a single channel/gray image data normalized to [0.0, 1.0]\n",
        "    r:  window radius\n",
        "    Return\n",
        "    -----------\n",
        "    The filtered image data.\n",
        "    \"\"\"        \n",
        "    M, N = I.shape\n",
        "    dest = np.zeros((M, N))\n",
        "    # cumulative sum over Y axis\n",
        "    sumY = np.cumsum(I, axis=0)\n",
        "    # difference over Y axis\n",
        "    dest[:r + 1] = sumY[r: 2 * r + 1]\n",
        "    dest[r + 1:M - r] = sumY[2 * r + 1:] - sumY[:M - 2 * r - 1]\n",
        "    dest[-r:] = np.tile(sumY[-1], (r, 1)) - sumY[M - 2 * r - 1:M - r - 1]\n",
        "    # cumulative sum over X axis\n",
        "    sumX = np.cumsum(dest, axis=1)\n",
        "    # difference over Y axis\n",
        "    dest[:, :r + 1] = sumX[:, r:2 * r + 1]\n",
        "    dest[:, r + 1:N - r] = sumX[:, 2 * r + 1:] - sumX[:, :N - 2 * r - 1]\n",
        "    dest[:, -r:] = np.tile(sumX[:, -1][:, None], (1, r)) - \\\n",
        "        sumX[:, N - 2 * r - 1:N - r - 1]\n",
        "    return dest\n",
        "\n",
        "def guided_filter(I, p, r=40, eps=1e-3):\n",
        "    \"\"\"Refine a filter under the guidance of another (RGB) image.\n",
        "    Parameters\n",
        "    -----------\n",
        "    I:   an M * N * 3 RGB image for guidance.\n",
        "    p:   the M * N filter to be guided\n",
        "    r:   the radius of the guidance\n",
        "    eps: epsilon for the guided filter\n",
        "    Return\n",
        "    -----------\n",
        "    The guided filter.\n",
        "    \"\"\"    \n",
        "    M, N = p.shape\n",
        "    base = boxfilter(np.ones((M, N)), r)\n",
        "    # each channel of I filtered with the mean filter\n",
        "    means = [boxfilter(I[:, :, i], r) / base for i in range(3)]\n",
        "    # p filtered with the mean filter\n",
        "    mean_p = boxfilter(p, r) / base\n",
        "    # filter I with p then filter it with the mean filter\n",
        "    means_IP = [boxfilter(I[:, :, i] * p, r) / base for i in range(3)]\n",
        "    # covariance of (I, p) in each local patch\n",
        "    covIP = [means_IP[i] - means[i] * mean_p for i in range(3)]\n",
        "    # variance of I in each local patch: the matrix Sigma in ECCV10 eq.14\n",
        "    var = defaultdict(dict)\n",
        "    for i, j in combinations_with_replacement(range(3), 2):\n",
        "        var[i][j] = boxfilter(\n",
        "            I[:, :, i] * I[:, :, j], r) / base - means[i] * means[j]\n",
        "    a = np.zeros((M, N, 3))\n",
        "    for y, x in np.ndindex(M, N):\n",
        "        #         rr, rg, rb\n",
        "        # Sigma = rg, gg, gb\n",
        "        #         rb, gb, bb\n",
        "        Sigma = np.array([[var[R][R][y, x], var[R][G][y, x], var[R][B][y, x]],\n",
        "                          [var[R][G][y, x], var[G][G][y, x], var[G][B][y, x]],\n",
        "                          [var[R][B][y, x], var[G][B][y, x], var[B][B][y, x]]])\n",
        "        cov = np.array([c[y, x] for c in covIP])\n",
        "        a[y, x] = np.dot(cov, np.linalg.inv(Sigma + eps * np.eye(3)))  # eq 14\n",
        "    # ECCV10 eq.15\n",
        "    b = mean_p - a[:, :, R] * means[R] - \\\n",
        "        a[:, :, G] * means[G] - a[:, :, B] * means[B]\n",
        "    # ECCV10 eq.16\n",
        "    q = (boxfilter(a[:, :, R], r) * I[:, :, R] + boxfilter(a[:, :, G], r) *\n",
        "         I[:, :, G] + boxfilter(a[:, :, B], r) * I[:, :, B] + boxfilter(b, r)) / base\n",
        "    return q"
      ]
    },
    {
      "cell_type": "markdown",
      "metadata": {
        "id": "d3nhlsFWnT00"
      },
      "source": [
        "**dehaze()**\n",
        "\n",
        "In computer vision the formation of a blurry image is usually described by the following pattern:\n",
        "\n",
        "$$\\mathbf{I}(\\mathbf{x}) = \\mathbf{J}(\\mathbf{x})t(\\mathbf{x}) + \\mathbf{A}(1 - t(\\mathbf{x }))$$\n",
        "\n",
        " where $I(x)$ is the observed blurry image, $J(x)$ is the scene brightness (\"the clean image\") to recover, $A$ is the global atmospheric light, and $t$ is the average transmission.\n",
        "\n",
        "In [3] He proposed a method to reduce haze from outdoor images. Given an image $J$ its dark channel is calculated as:\n",
        "\n",
        "$$\n",
        "J^{dark}(\\mathbf{x}) = min_{c \\in \\{r,g,b\\}}( min_{\\mathbf{y} \\in \\Omega(\\mathbf{x})}(J ^c(\\mathbf{y})))\n",
        "$$\n",
        "\n",
        "$J$ is an outdoor image without haze, the intensity of $J^{dark}$ in the region of the image not including the sky is close to 0.\n",
        "\n",
        "The idea is formed from the assumption that in the images there are many dark areas where there is no sky whose pixels will have at least one color channel with a very low value.\n",
        "\n",
        "Then the transmission can be estimated as:\n",
        "\n",
        "$$\n",
        "\\tilde{t}(\\mathbf{x}) = 1 - \\omega min_{c}( min_{\\mathbf{y} \\in \\Omega(\\mathbf{x})}(\\frac{I^c(\\ mathbf{y})}{A^c}))\n",
        "$$\n",
        "\n",
        "where $\\omega \\in (0, 1]$ is a constant to maintain a certain amount of fog to keep the result as natural as possible. Here $min_{c}( min_{\\mathbf{y} \\in \\ Omega(\\mathbf{x})}(\\frac{I^c(\\mathbf{y})}{A^c}))$ is the dark channel of the normalized image with haze $\\frac{I^c (\\mathbf{y})}{A^c}$.\n",
        "\n",
        "To obtain $A$ from the input image, first select the brightest p% pixels in the dark channel, then, for each color channel, choose the one with the highest intensity in the input image ${ I}$ like its atmospheric light.\n",
        "\n",
        "Once $\\tilde{t}(\\mathbf{x})$, ${A}$ and ${I}$ have been obtained, the image without haze can be calculated with the following formula:\n",
        "\n",
        "$$\n",
        "\\mathbf{J}(\\mathbf{x}) = \\frac{\\mathbf{I}(\\mathbf{x}) - \\mathbf{A}}{max(\\tilde{t}(\\mathbf{x}) ,t_0)} + \\mathbf{A}\n",
        "$$\n",
        "\n",
        "where $t_0$ is a lower bound for $t$ to preserve some amount of haze in areas where it is densest.\n",
        "\n"
      ]
    },
    {
      "cell_type": "code",
      "execution_count": null,
      "metadata": {
        "id": "WvybUceS0t4a"
      },
      "outputs": [],
      "source": [
        "#Single-Image-Haze-Removal-Using-Dark-Channel-Prior\n",
        "\n",
        "%matplotlib inline\n",
        "\n",
        "#The data structure used to store the original pixel position when sorting\n",
        "class Node(object):\n",
        "    def __init__(self,x,y,value):\n",
        "        self.x = x\n",
        "        self.y = y\n",
        "        self.value = value\n",
        "\n",
        "    def printInfo(self):\n",
        "        print('%s:%s:%s' %(self.x,self.y,self.value))\n",
        "        \n",
        "# get the minimum matrix\n",
        "def getMinChannel(img):\n",
        "    '''Get the minimum value of the three channels of BGR \n",
        "    \n",
        "      parameters\n",
        "      img - the image as a numpy array\n",
        "      '''\n",
        "    if len(img.shape)==3 and img.shape[2]==3:\n",
        "        pass\n",
        "    else:\n",
        "        print(\"bad image shape, input must be color image\")\n",
        "        return None\n",
        "    \n",
        "    return np.min(img, axis=2)\n",
        "   \n",
        "def getDarkChannel(img,blockSize = 3):\n",
        "    \"\"\"Get the dark channel prior in the image data.\n",
        "    Parameters\n",
        "    -----------\n",
        "    img:  the image as a numpy array\n",
        "        H is the height, W is the width\n",
        "    blocksize:  window size\n",
        "    \"\"\"\n",
        "  \n",
        "    if len(img.shape)==2:\n",
        "        pass\n",
        "    else:\n",
        "        print(\"bad image shape, input image must be two dimensions\")\n",
        "        return None\n",
        "\n",
        "    if blockSize % 2 == 0 or blockSize < 3:\n",
        "        print('blockSize is not odd or too small')\n",
        "        return None\n",
        "\n",
        "    # calculate AddSize\n",
        "    A = int((blockSize-1)/2) #AddSize\n",
        "    #New height and new width\n",
        "    H = img.shape[0] + blockSize - 1\n",
        "    W = img.shape[1] + blockSize - 1\n",
        "    # intermediate results\n",
        "    imgMiddle = 255 * np.ones((H,W))    \n",
        "\n",
        "    imgMiddle[A:H-A, A:W-A] = img\n",
        "    \n",
        "    imgDark = np.zeros_like(img, np.uint8)    \n",
        "    \n",
        "    localMin = 255\n",
        "    for i in range(A, H-A):\n",
        "        for j in range(A, W-A):\n",
        "            x = range(i-A, i+A+1)\n",
        "            y = range(j-A, j+A+1)\n",
        "            imgDark[i-A,j-A] = np.min(imgMiddle[x,y])                            \n",
        "    #return an H*W array for the dark channel prior\n",
        "    return imgDark\n",
        "\n",
        "\n",
        "def getAtomsphericLight(darkChannel,img,meanMode = False, percent = 0.001):\n",
        "    '''get global atmospheric light intensity\n",
        "\n",
        "    Parameters\n",
        "    darkChannel     the dark channel prior of the image as a height * width numpy array\n",
        "    img             the image as a numpy array\n",
        "    percent         the percentage of pixels for estimating the atmosphere light\n",
        "\n",
        "    '''\n",
        "\n",
        "    size = darkChannel.shape[0]*darkChannel.shape[1]\n",
        "    height = darkChannel.shape[0]\n",
        "    width = darkChannel.shape[1]\n",
        "\n",
        "    nodes = []\n",
        "\n",
        "    # Store data in a linked list structure (list)\n",
        "    for i in range(0,height):\n",
        "        for j in range(0,width):\n",
        "            oneNode = Node(i,j,darkChannel[i,j])\n",
        "            nodes.append(oneNode)\t\n",
        "    # sort\n",
        "    nodes = sorted(nodes, key = lambda node: node.value,reverse = True)\n",
        "\n",
        "    atomsphericLight = 0\n",
        "\n",
        "    # When the original image has too few pixels, only the first pixel is considered\n",
        "    if int(percent*size) == 0:\n",
        "        for i in range(0,3):\n",
        "            if img[nodes[0].x,nodes[0].y,i] > atomsphericLight:\n",
        "                atomsphericLight = img[nodes[0].x,nodes[0].y,i]\n",
        "        \n",
        "        return atomsphericLight\n",
        "\n",
        "    #turn on average mode\n",
        "    if meanMode:\n",
        "        sum = 0\n",
        "        for i in range(0,int(percent*size)):\n",
        "            for j in range(0,3):\n",
        "                sum = sum + img[nodes[i].x,nodes[i].y,j]\n",
        "        atomsphericLight = int(sum/(int(percent*size)*3))\n",
        "        return atomsphericLight\n",
        "\n",
        "    # Get the highest brightness value of the pixel at the position of the first 0.1% (percent) of the dark channel in the original image\n",
        "    for i in range(0,int(percent*size)):\n",
        "        for j in range(0,3):\n",
        "            if img[nodes[i].x,nodes[i].y,j] > atomsphericLight:\n",
        "                atomsphericLight = img[nodes[i].x,nodes[i].y,j]\n",
        "    return atomsphericLight\n",
        "\n",
        "\n",
        "def dehaze(img, omega=0.95, t0=0.1, blockSize=15, meanMode=False, percent=0.001, refine=True):\n",
        "    '''\n",
        "    dehaze the given image\n",
        "\n",
        "    Parameters\n",
        "    img - the image as a numpy array\n",
        "    omega- the defogging ratio parameter\n",
        "    t0 - the minimum transmittance value\n",
        "    blockSize - the window size\n",
        "    percent - percentage of pixels for estimating the atmosphere light\n",
        "    if you don't want to use guided filter set refine=False\n",
        "    '''\n",
        "\n",
        "    imgGray = getMinChannel(img)\n",
        "    imgDark = getDarkChannel(imgGray, blockSize = blockSize)\n",
        "    atomsphericLight = getAtomsphericLight(imgDark,img,meanMode = meanMode,percent= percent)\n",
        "\n",
        "    imgDark = np.float64(imgDark)\n",
        "    transmission = 1 - omega * imgDark / atomsphericLight\n",
        "\n",
        "    # To prevent the occurrence of t less than 0\n",
        "    # Limit the minimum value of t to 0.1\n",
        "    transmission[transmission<0.1] = 0.1     \n",
        "    \n",
        "    if refine:        \n",
        "        normI = (img - img.min()) / (img.max() - img.min())  # normalize I\n",
        "        transmission = guided_filter(normI, transmission, r=40, eps=1e-3)\n",
        "\n",
        "    sceneRadiance = np.zeros(img.shape)\n",
        "    img = np.float64(img)\n",
        "    \n",
        "    for i in range(3):        \n",
        "        SR = (img[:,:,i] - atomsphericLight)/transmission + atomsphericLight\n",
        "\n",
        "        # Limit transmittance at 0～255                 \n",
        "        SR[SR>255] = 255\n",
        "        SR[SR<0] = 0                    \n",
        "        sceneRadiance[:,:,i] = SR  \n",
        "            \n",
        "    sceneRadiance = np.uint8(sceneRadiance)\n",
        "    resultPil=cv.cvtColor(sceneRadiance,cv.COLOR_BGR2RGB)\n",
        "    return Image.fromarray(resultPil)    "
      ]
    },
    {
      "cell_type": "code",
      "execution_count": null,
      "metadata": {
        "id": "qAR3SfBSQYOS"
      },
      "outputs": [],
      "source": [
        "#apply action \n",
        "'''ps: pipe filtering implementation set to false '''\n",
        "dcp_opencv=apply_action(action_code=19,img=random_image)\n",
        "\n",
        "compare_images([random_image, dcp_opencv], ['Raw image', 'DCP image'], (10, 10))"
      ]
    },
    {
      "cell_type": "markdown",
      "metadata": {
        "id": "ljR4tTREbKJF"
      },
      "source": [
        "#### Gamma Correction\n",
        "\n"
      ]
    },
    {
      "cell_type": "markdown",
      "metadata": {
        "id": "NjzCVEw_GHN6"
      },
      "source": [
        "Gamma transform corrects underwater images that are too bright (overexposure) or too dark (underexposure)\n",
        "\n",
        "Correction is used to encode or decode the luminance of an image based on the used γ (gamma) parameter.\n",
        "\n",
        "A γ value greater than 1 is called **γ encoding** and the correction process is called **γ compression**, while a γ value lower than 1 is called **γ decoding** and the process is called **γ expansion**.\n",
        "\n",
        "The method for solving for gamma correction is quick: just build a table that maps the input image pixel values ​​to the output gamma corrected values. From the table, the output value for a given pixel is quickly determined.\n",
        "\n",
        "Then the table is created by iterating all the pixels in the range [0.255]. The pixel value is then scaled to the interval [0,1.0] and is then multiplied by the inverse of the gamma - this value is then stored in the table.\n",
        "Then the openCV **cv.LUT** function is applied which takes the image and the table as parameters and finds the correct mappings for each pixel value. "
      ]
    },
    {
      "cell_type": "code",
      "execution_count": null,
      "metadata": {
        "id": "X4nhyefLrhRj"
      },
      "outputs": [],
      "source": [
        "#gamma for gamma correction + equal to 1.5\n",
        "#gamma for gamma correction - equal to 0.5\n",
        "def gammaCorrection(opencv_image,gamma):\n",
        "  # build a lookup table mapping the pixel values [0, 255] to\n",
        "\t  # their adjusted gamma values\n",
        "    invGamma = 1.0 / gamma\n",
        "    table = np.array([((i / 255.0) ** invGamma) * 255 \n",
        "                      for i in np.arange(0, 256)]).astype(\"uint8\")\n",
        "    # apply gamma correction using the lookup table\n",
        "    correctedArray = cv.LUT(opencv_image, table)\n",
        "    return Image.fromarray(correctedArray)"
      ]
    },
    {
      "cell_type": "code",
      "execution_count": null,
      "metadata": {
        "id": "NCY-O9pIbL5V"
      },
      "outputs": [],
      "source": [
        "image_1=apply_action(action_code=12, img=random_image)\n",
        "image_2=apply_action(action_code=13, img=random_image)\n",
        "\n",
        "compare_images([image_1,random_image,image_2], ['Gamma -','Raw image','Gamma +'], (10,10))"
      ]
    },
    {
      "cell_type": "markdown",
      "metadata": {
        "id": "6w44Azh8bPT5"
      },
      "source": [
        "#### Histogram Equalization and Contrast Limited Adaptive Histogram Equalization (HE e CLAHE) \n",
        "\n"
      ]
    },
    {
      "cell_type": "markdown",
      "metadata": {
        "id": "mQvU2itBGI8T"
      },
      "source": [
        "The **histogram** is a graphical representation of the tonal distribution of the image: the variation of the tone is found on the abscissas, while the number of pixels relating to that tone is found on the ordinates.\n",
        "\n",
        "Usually the intensity values ​​of the images are very close to each other. The **Histogram Equalization** is an image processing method that allows you to calibrate the contrast using the image histogram by distributing the most frequent intensity values ​​in a more uniform way.\n",
        "\n",
        "<div>\n",
        "<img src=\"https://upload.wikimedia.org/wikipedia/commons/7/71/Histogrammspreizung.png\" width=\"500\"/>\n",
        "</div>\n",
        "\n",
        "The standard HE amplifies the contrast in the neighborhood of the constant areas and this can lead to the amplification of the noise present in the said neighborhood. In the **Contrast Limited Adaptive Histogram Equalization** a limit on the contrast amplification is introduced, in order to reduce the above problem.\n",
        "\n",
        "The OpenCV library provides a function to apply histogram equalization, the **equalizeHist**. HE works well on a grayscale image, but not on an RGB image. One solution may be to convert the image to the YUV color space and apply equalization on the Y channel, and finally convert the image to RGB.\n"
      ]
    },
    {
      "cell_type": "code",
      "execution_count": null,
      "metadata": {
        "id": "pfYDPxyabRA8"
      },
      "outputs": [],
      "source": [
        "#he\n",
        "def heq(opencv_image):\n",
        " img_to_yuv = cv.cvtColor(opencv_image,cv.COLOR_BGR2YUV)\n",
        " img_to_yuv[:,:,0] = cv.equalizeHist(img_to_yuv[:,:,0])\n",
        " hist_equalization_result = cv.cvtColor(img_to_yuv, cv.COLOR_YUV2BGR)\n",
        " resultPil=cv.cvtColor(hist_equalization_result,cv.COLOR_BGR2RGB)\n",
        " pil_image=Image.fromarray(resultPil)\n",
        " return pil_image"
      ]
    },
    {
      "cell_type": "markdown",
      "metadata": {
        "id": "2O3WtdxQny7J"
      },
      "source": [
        "The same problem mentioned above occurs in CLAHE, here the image will be converted to LAB color space, and the equalization is applied on the L channel."
      ]
    },
    {
      "cell_type": "code",
      "execution_count": null,
      "metadata": {
        "id": "WMYIewbDnrtg"
      },
      "outputs": [],
      "source": [
        " #Clahe\n",
        " def claheq(opencv_image):\n",
        "   img = cv.cvtColor(opencv_image, cv.COLOR_BGR2LAB)\n",
        "   #configure CLAHE\n",
        "   # clipLimit defines threshold to limit the contrast in case of noise in our image\n",
        "   # tileGridSize defines the area size in which local equalization will be performed\n",
        "   clahe = cv.createCLAHE(clipLimit=2.0,tileGridSize=(4,4))#)\n",
        "   #0 to 'L' channel, 1 to 'a' channel, and 2 to 'b' channel\n",
        "   img[:,:,0] = clahe.apply(img[:,:,0])\n",
        "   img = cv.cvtColor(img, cv.COLOR_LAB2BGR)\n",
        "   resultPil=cv.cvtColor(img,cv.COLOR_BGR2RGB)\n",
        "   return Image.fromarray(resultPil)"
      ]
    },
    {
      "cell_type": "code",
      "execution_count": null,
      "metadata": {
        "id": "qoZ6xe7RSq2o"
      },
      "outputs": [],
      "source": [
        "#he visualization\n",
        "image_1=apply_action(action_code=14, img=random_image)\n",
        "#clahe visualization\n",
        "image_2=apply_action(action_code=15, img=random_image)\n",
        "compare_images([image_1,random_image,image_2], ['HE image','Raw image','CLAHE image'], (10,10))"
      ]
    },
    {
      "cell_type": "markdown",
      "metadata": {
        "id": "DA81R9OM7Td-"
      },
      "source": [
        "#### Sharpen\n"
      ]
    },
    {
      "cell_type": "markdown",
      "metadata": {
        "id": "paqqKLmQGPgz"
      },
      "source": [
        "The sharpen filter makes transitions from one region of the image to another more obvious"
      ]
    },
    {
      "cell_type": "code",
      "execution_count": null,
      "metadata": {
        "id": "fjOUhcK97UqD"
      },
      "outputs": [],
      "source": [
        "sharpenedImage = apply_action(action_code=17, img=random_image)\n",
        "\n",
        "compare_images([random_image,sharpenedImage], ['Raw image','Sharpened image'], (10,10))"
      ]
    },
    {
      "cell_type": "markdown",
      "metadata": {
        "id": "gVQ1rusY5PuX"
      },
      "source": [
        "#### Emboss"
      ]
    },
    {
      "cell_type": "markdown",
      "metadata": {
        "id": "GJW7SMeKGQ0y"
      },
      "source": [
        "With the Emboss a filter is applied on the image in order to obtain a 3D relief model of the same."
      ]
    },
    {
      "cell_type": "code",
      "execution_count": null,
      "metadata": {
        "id": "d8vRB17s5TAe"
      },
      "outputs": [],
      "source": [
        "embossedImage = apply_action(action_code=18, img=random_image)\n",
        "\n",
        "compare_images([random_image,embossedImage], ['Raw image','Embossed image'], (10,10))"
      ]
    },
    {
      "cell_type": "markdown",
      "metadata": {
        "id": "KBqCT184QbEI"
      },
      "source": [
        "### Stati\n"
      ]
    },
    {
      "cell_type": "markdown",
      "metadata": {
        "id": "-0dH-i7-mJXu"
      },
      "source": [
        "The individual states are composed of all the features extracted from the input image. In the instant $t_i$ an action is applied on the starting image, obtaining an \"enhanced\" image from which the features that will constitute the state at the instant $t_{i+1}$ will be extracted."
      ]
    },
    {
      "cell_type": "markdown",
      "metadata": {
        "id": "1pXPPu2oLdev"
      },
      "source": [
        "### Feature extraction\n",
        "\n"
      ]
    },
    {
      "cell_type": "markdown",
      "metadata": {
        "id": "UvGZ_mc3FpxR"
      },
      "source": [
        "Two different types of features are extracted from the image, which will constitute the initial state which will then be perceived by the agent:\n",
        "* **Colour feature**: global features, describe the surface properties of the image\n",
        "* **Perceptual feature**: Context-dependent features inspired by human vision."
      ]
    },
    {
      "cell_type": "markdown",
      "metadata": {
        "id": "Zmw0WiU-i3uY"
      },
      "source": [
        "#### Colour feature\n"
      ]
    },
    {
      "cell_type": "markdown",
      "metadata": {
        "id": "PU65D1AoF3Ix"
      },
      "source": [
        "As for the color features, the image is converted to switch from the RGB color space to the Lab (CIELAB) one.\n",
        "\n",
        "The RGB space, coded on three bytes, allows to represent 40% of the colors that the human eye can perceive.\n",
        "The CIE offers color spaces to broaden the field of possibilities to what man can actually perceive. Among these is the CIELAB color space, which tries to best represent the perception of color for the human eye and also estimates the light source.\n",
        "\n",
        "The CIE model L*a*b* is a three-dimensional space where the *L* dimension specifies the degree of **brightness**, in the *a* dimension the **opposite colors red and green** are reported, while in the *b* shows the **opposite colors yellow and blue**.\n",
        "\n",
        "* **L axis**: has values ​​between 0=black and 100=white\n",
        "* **axis a**: has negative=green, or positive=red values\n",
        "* **b-axis**: has negative=blue, or positive=yellow values\n",
        "\n",
        "<div>\n",
        "<img src=\"https://drive.google.com/uc?id=15vjH7JX4wc19BDTYZ-1KgRg1P0iIi_uL\" width=\"400\"/>\n",
        "</div>\n",
        "\n",
        "CIELAB may be suitable for training learning models. According to recent studies it has proven to be more effective than the RGB color space.\n",
        "\n",
        "The **histogram** represents the intensity distribution of the pixels in the image. Each axis of the CIELab space is divided into 20 intervals and the number of pixels it contains is calculated for each interval. In our case a binning of 20 intervals was used for each channel, obtaining a 20x20x20 histogram which contains the values ​​of the color features.\n",
        "\n",
        "CV2's `calcHist` function was used to calculate the histogram:\n",
        "\n",
        "```\n",
        "CV2.calcHist(images, channels, mask, histSize, ranges)\n",
        "```\n",
        "the function accepts the following parameters:\n",
        "\n",
        "* `images`: vector of images for which you want to calculate the histogram (in this notebook a single image is mainly used, but it still needs to be converted to a vector of a single element)\n",
        "* `channels`: list of channel indexes to compute (e.g. [0] to compute a grayscale image, [0,1,2] to compute an RGB or LAB image)\n",
        "* `mask`: if provided only masked pixels are computed\n",
        "* `histSize`: number of bins to use during histogram computation (list with number of bins for each of the channels)\n",
        "* `ranges`: range of possible pixel values ​​for each channel (e.g. for RGB [0.256] is used); the values ​​for the three channels must be passed as a linear list and not as 3 separate lists nested in a fourth list\n",
        "\n",
        "The histogram is calculated separately on the three channels to display the graph"
      ]
    },
    {
      "cell_type": "code",
      "execution_count": null,
      "metadata": {
        "id": "7ZoUumrY42NL"
      },
      "outputs": [],
      "source": [
        "                                                                          1image_array = np.array(random_image)\n",
        "#in opencv lab values are scaled to range [0,255]\n",
        "lab=cv.cvtColor(image_array, cv.COLOR_RGB2LAB) #convert RGB values to LAB values\n",
        "l_range=[np.min(lab[:,:,0]),np.max(lab[:,:,0])]\n",
        "a_range=[np.min(lab[:,:,1]),np.max(lab[:,:,1])]\n",
        "b_range=[np.min(lab[:,:,2]),np.max(lab[:,:,2])]\n",
        "print(\"Ranges for l,a,b: \",l_range,a_range,b_range)\n",
        "\n",
        "#visualizing graph and calculating histogram separately for every channel\n",
        "bin_count=256\n",
        "\n",
        "for i,col in enumerate(['l','a','b']):\n",
        "  hist = cv.calcHist([lab],[i],None,[bin_count],[0,256])\n",
        "  print('Shape:', hist.shape)\n",
        "  plt.plot(hist,label=col)\n",
        "  plt.xlim([0,bin_count])\n",
        "\n",
        "plt.legend()\n",
        "plt.title('Cielab histogram ')\n",
        "plt.show()"
      ]
    },
    {
      "cell_type": "markdown",
      "metadata": {
        "id": "kRSkLeep5iGp"
      },
      "source": [
        "\n",
        "The 3D histogram is calculated by obtaining the vector of the color features, made up of 8000 values.\n",
        "\n"
      ]
    },
    {
      "cell_type": "code",
      "execution_count": null,
      "metadata": {
        "id": "T6HE4Ps7i_ZY"
      },
      "outputs": [],
      "source": [
        "def get_color_feature(img_array, flatten=False):  \n",
        "  #in opencv lab values are scaled to range [0,255]\n",
        "  lab=cv.cvtColor(img_array, cv.COLOR_RGB2LAB) #convert RGB values to LAB values\n",
        "  #calculating 3D histogram\n",
        "  channels=[0, 1, 2]\n",
        "  bins=[20, 20, 20]\n",
        "  ranges = [0,256,0,256,0,256]\n",
        "\n",
        "  histogram = cv.calcHist([lab], channels, None,bins , ranges)\n",
        "\n",
        "  #print(\"total pixels in histogram:\", np.sum(histogram)) #should be 50176 for 224x224 images\n",
        "  if flatten: return histogram.flatten()\n",
        "  else: return histogram"
      ]
    },
    {
      "cell_type": "code",
      "execution_count": null,
      "metadata": {
        "id": "BVU8cKWzg5VJ"
      },
      "outputs": [],
      "source": [
        "#test that get_color_feature extract 8000 features\n",
        "image_array = np.array(random_image)\n",
        "print(\"color feature are:\", get_color_feature(image_array).size)"
      ]
    },
    {
      "cell_type": "markdown",
      "metadata": {
        "id": "KzQLhuOQi7kI"
      },
      "source": [
        "#### Perceptual feature\n"
      ]
    },
    {
      "cell_type": "markdown",
      "metadata": {
        "id": "P3Px0xI-GUk5"
      },
      "source": [
        "A pre-trained **VGG-19** convolutional network** is used for the extraction of the perceptual features.\n",
        "\n",
        "In the following subsections the model is described, the VGG-19 is built and compiled which will be used in the rest of the notebook and will be tested on some images as an example."
      ]
    },
    {
      "cell_type": "markdown",
      "metadata": {
        "id": "kMtohBhtPlVS"
      },
      "source": [
        "##### Modello VGG-19\n",
        "\n"
      ]
    },
    {
      "cell_type": "markdown",
      "metadata": {
        "id": "8ACaRiFlGWUI"
      },
      "source": [
        "VGGNet-19 takes 224x224x3 images as input and is composed of the following layers:\n",
        "\n",
        "* 16 levels of Convolution\n",
        "* 5 levels of Max Pooling\n",
        "* 3 Fully Connected Levels\n",
        "\n",
        "VGG also introduces the concept of block, i.e. a sequence of convolutional levels with kernel size 3x3 followed by a Max Pooling level with stride 2.\n",
        "\n",
        "The main advantage of using VGG-19 is the high number of layers, which allows him to learn more complex representations of the input data. Compared to VGG-16 for example, VGG-19 is more accurate, but requires more memory and computational resources.\n",
        "\n",
        "The figure shows the architecture of VGGNet-19:\n",
        "\n",
        "<div>\n",
        "<img src=\"https://drive.google.com/uc?id=1AUik3SqUJcYaWnKTrM37ZXyKctd8To6C\" width=\"500\"/>\n",
        "</div>\n",
        "\n",
        "**Why use a pre-trained network?**\n",
        "\n",
        "Not having a labeled dataset, we opted for a model pre-trained on the ImageNet dataset to extract the features. Models trained on ImageNet have learned to extract features from a variety of images, and should do well in the application domain of underwater imaging as well.\n",
        "\n",
        "Keras allows to instantiate the [**VGG**](https://keras.io/api/applications/vgg/) with the weights of the network pre-trained on ImageNet. The `include_top` parameter indicates whether you want to keep the top dense layers when loading the model or not."
      ]
    },
    {
      "cell_type": "code",
      "execution_count": null,
      "metadata": {
        "id": "xPVVW14J7wwG"
      },
      "outputs": [],
      "source": [
        "#pretrained network from ImageNet\n",
        "vgg19 = VGG19(\n",
        "    include_top=True,\n",
        "    weights=\"imagenet\",\n",
        "    input_tensor=None,\n",
        "    input_shape=None, #default input shape is 224x224x3\n",
        "    pooling=None,\n",
        "    classes=1000,\n",
        "    classifier_activation=\"softmax\"\n",
        ")"
      ]
    },
    {
      "cell_type": "markdown",
      "metadata": {
        "id": "basylPUWPy4p"
      },
      "source": [
        "##### Visualizzazione del modello"
      ]
    },
    {
      "cell_type": "code",
      "execution_count": null,
      "metadata": {
        "id": "2Jxm_TjJP8tl"
      },
      "outputs": [],
      "source": [
        "vgg19.summary()"
      ]
    },
    {
      "cell_type": "code",
      "execution_count": null,
      "metadata": {
        "id": "Rc4HU_ufR_qp"
      },
      "outputs": [],
      "source": [
        "plot_model(vgg19,show_shapes=True)"
      ]
    },
    {
      "cell_type": "markdown",
      "metadata": {
        "id": "XeDFp2hrRbUh"
      },
      "source": [
        "##### Compilazione del modello\n",
        "\n"
      ]
    },
    {
      "cell_type": "markdown",
      "metadata": {
        "id": "R6xyDcusGZTx"
      },
      "source": [
        "As a final step, the model is compiled by choosing:\n",
        "\n",
        "* Optimization algorithm: **ADAM**\n",
        "* Loss function: **Categorical Cross-Entropy**\n",
        "* Model performance evaluation metrics: **Accuracy**\n",
        "\n",
        "\n",
        "\n"
      ]
    },
    {
      "cell_type": "code",
      "execution_count": null,
      "metadata": {
        "id": "ArWvexc1Rd28"
      },
      "outputs": [],
      "source": [
        "opt = Adam(learning_rate=0.001) \n",
        "\n",
        "vgg19.compile(optimizer=opt, loss=categorical_crossentropy, metrics=['accuracy'])"
      ]
    },
    {
      "cell_type": "markdown",
      "metadata": {
        "id": "gZiabVlUQF94"
      },
      "source": [
        "##### Feature extraction"
      ]
    },
    {
      "cell_type": "markdown",
      "metadata": {
        "id": "BrqwBLuhFWHx"
      },
      "source": [
        "Taking a random image from the dataset, the features are extracted by taking the output of one of the fully connected layers, as indicated in the paper. 4096 perceptual features are obtained, a number corresponding to the output neurons of the extraction level.\n",
        "\n"
      ]
    },
    {
      "cell_type": "code",
      "execution_count": null,
      "metadata": {
        "id": "n1DiDqwiQJfE"
      },
      "outputs": [],
      "source": [
        "#defining a new model whose output is the same of the first dense layer in vgg19\n",
        "hidden_features_vgg = Model(inputs=vgg19.input, outputs=vgg19.get_layer('fc1').output)\n",
        "\n",
        "def get_perceptual_features(img_array, model=hidden_features_vgg,flatten=False):\n",
        "  image_values = np.expand_dims(img_array, axis=0) #add one axis to conform array with VGG input (first axis is the image number)\n",
        "  image_values = preprocess_input(image_values) #scale pixel values appropriately for the VGG model\n",
        "  \n",
        "  features = model.predict(image_values,verbose=\"0\")\n",
        "  if flatten: return features.flatten() #convert 1x1000 matrix to a vector with of 1000 features\n",
        "  else: return features\n",
        "\n",
        "features = get_perceptual_features(random_image)\n",
        "print(\"number of perceptual feature: \", features.size)\n",
        "#print(features)"
      ]
    },
    {
      "cell_type": "markdown",
      "metadata": {
        "id": "PQ-VdhZM83hT"
      },
      "source": [
        "##### Example of feature extraction and classification"
      ]
    },
    {
      "cell_type": "code",
      "execution_count": null,
      "metadata": {
        "id": "ShuSv7naojgY"
      },
      "outputs": [],
      "source": [
        "#summarize filters shapes\n",
        "for layer in vgg19.layers:\n",
        "  #check for convolutional layer\n",
        "  if 'conv' not in layer.name:\n",
        "    continue\n",
        "  #get filters weights\n",
        "  filters,biases=layer.get_weights()\n",
        "  print(layer.name,filters.shape)"
      ]
    },
    {
      "cell_type": "markdown",
      "metadata": {
        "id": "VL-ijdlN1pxj"
      },
      "source": [
        "View the size of feature maps for each level of convolution."
      ]
    },
    {
      "cell_type": "code",
      "execution_count": null,
      "metadata": {
        "id": "TCSYcAYb_lMe"
      },
      "outputs": [],
      "source": [
        "#Summarize feature map size for each conv layer with VGG19\n",
        "for i in range(len(vgg19.layers)):\n",
        "  layer=vgg19.layers[i]\n",
        "  #check  for convolutional layer\n",
        "  if 'conv' not in layer.name:\n",
        "    continue\n",
        "  #summarize output shape\n",
        "  print(i,layer.name, layer.output.shape)"
      ]
    },
    {
      "cell_type": "markdown",
      "metadata": {
        "id": "enlYMIQvRtqn"
      },
      "source": [
        "The prediction is carried out and the 5 most probable classes of belonging are obtained."
      ]
    },
    {
      "cell_type": "code",
      "execution_count": null,
      "metadata": {
        "id": "yqqm4U_UXXPM"
      },
      "outputs": [],
      "source": [
        "display_image(random_image)\n",
        "# convert the probabilities to class labels. For default it return to top 5 guessed classes\n",
        "label = decode_predictions(get_perceptual_features(random_image, model=vgg19))\n",
        "#print(label)\n",
        "# retrieve the most likely result, e.g. highest probability\n",
        "label_most = label[0][0]\n",
        "# print the classification\n",
        "print('The most likely class obtained is: %s (%.2f%%)' % (label_most[1], label_most[2]*100))\n",
        "#print a bar plot\n",
        "classes=[]\n",
        "probabilities=[]\n",
        "x=0\n",
        "while x<len(label[0]):\n",
        " classes.append(label[0][x][1])\n",
        " probabilities.append(label[0][x][2]*100)\n",
        " x=x+1\n",
        "# \n",
        "fig, ax = plt.subplots()\n",
        "width = 0.8 # width of the bars\n",
        "rects1 = ax.barh(classes, probabilities, width, color='r')\n",
        "\n",
        "ax.set_ylabel('Classes')\n",
        "ax.set_xlabel('Probabilities')\n",
        "ax.set_title('Probability')\n",
        "\n",
        "plt.show()"
      ]
    },
    {
      "cell_type": "markdown",
      "metadata": {
        "id": "gAesMeSIZf5N"
      },
      "source": [
        "#### \n",
        "Feature extraction function"
      ]
    },
    {
      "cell_type": "markdown",
      "metadata": {
        "id": "8WYT6KbXfDGR"
      },
      "source": [
        "Given the image as input, the `extract_features` function returns 12096 features (4096 perceptual features and 8000 color features).\n",
        "\n",
        "The input image must be converted into a 3D tensor of pixels which will then be expanded from 3 dimensions to 4. The pixel values ​​must then be scaled appropriately for the VGG model."
      ]
    },
    {
      "cell_type": "code",
      "execution_count": null,
      "metadata": {
        "id": "yIM7gTR9Zgvu"
      },
      "outputs": [],
      "source": [
        "def get_features(img):\n",
        "  img_array = np.array(img) #convert the image to an array of RGB pixel values\n",
        "  \n",
        "  color_features = get_color_feature(img_array, flatten=True) #get 20x20x20 features  \n",
        "  perceptual_features = get_perceptual_features(img_array, flatten=True) #get 4096 features\n",
        "\n",
        "  features = np.concatenate((color_features, perceptual_features))\n",
        "\n",
        "  return features,color_features,perceptual_features"
      ]
    },
    {
      "cell_type": "code",
      "execution_count": null,
      "metadata": {
        "id": "9V4-NKkjaN7u"
      },
      "outputs": [],
      "source": [
        "#test feature extraction\n",
        "features,color_features,perceptual_features = get_features(random_image)\n",
        "features_number = len(features)\n",
        "\n",
        "print(\"number of features: \", features_number)"
      ]
    },
    {
      "cell_type": "markdown",
      "metadata": {
        "id": "KkunNwbqDWiM"
      },
      "source": [
        "### Definition of the reward"
      ]
    },
    {
      "cell_type": "markdown",
      "metadata": {
        "id": "1WaS2d0HGeX5"
      },
      "source": [
        "The reward is expressed as a function of the improvement of the raw image. This improvement is characterized by two distinct losses: a pixelwise loss and a perceptual loss.\n",
        "\n",
        "The **pixelwise loss** (Mean Absolute Error) measures the distance pixel by pixel between the colors of the ground truth image and the one enhanced following the execution of an action. Minimizing this loss allows to reduce the difference between the color of the ground truth image and that obtained by applying actions on the raw image.\n",
        "\n",
        "> $L_c=\\frac{1}{WH} \\sum_{w,h} \\lvert Y_{w,h} - G(X(t))_{w,h} \\rvert$\n",
        "\n",
        "* W and H are the width and height of the input image\n",
        "* X is the input image\n",
        "* Y is the ground truth image\n",
        "* G(X) is the enhanced image after an action\n",
        "\n",
        "The **pixelwise reward** is defined as the difference in pixelwise losses between the enhanced and the raw image.\n",
        "\n",
        "> $R_c=-[L_c(t)-L_c(t-1)]$\n",
        "\n",
        "**Perceptual loss** (Mean Squared Error) favors visually pleasing images by measuring the distance between feature vectors (in our case, these are feature vectors extracted from the first fully-connected layer of VGG-19). Minimizing this loss reduces the difference between the high-level features extracted from the ground truth image compared to those extracted from the image obtained by applying actions on the raw image.\n",
        "\n",
        "> $L_p(t)= \\frac{1}{F} \\sum_{w,h}(\\Phi_{VGG}(Y)_{w,h} -\\Phi_{VGG}(G(X(t) ))_{w,h})^2$\n",
        "\n",
        "* $F$: number of perceptual features extracted from the image through VGG-19\n",
        "* $\\Phi_{VGG}(Y)$: the features extracted from the ground truth image\n",
        "* $\\Phi_{VGG}(G(X(t)))$: the features extracted from the enhanced image following the action\n",
        "\n",
        "The **perception reward** is defined as the difference in the perception loss between the enhanced and the raw image.\n",
        "\n",
        "> $R_p(t)=-[L_p(t)-L_p(t-1)]$\n",
        "\n",
        "Finally, the **reward** is defined as:\n",
        "\n",
        "> $R=\\alpha R_c + \\beta R_p$\n",
        "\n",
        "$\\alpha$ and $\\beta$ are **balancing coefficients** (hyperparameters) which are used to stabilize the training and are selected empirically. The recommended values ​​in the literature are $1$ and $0.05$, respectively\n"
      ]
    },
    {
      "cell_type": "markdown",
      "metadata": {
        "id": "OvOZNUDpSAVH"
      },
      "source": [
        "\n",
        "#### Calculation of the pixelwise loss"
      ]
    },
    {
      "cell_type": "markdown",
      "metadata": {
        "id": "Y0leNXrMoez3"
      },
      "source": [
        "The `get_pixelwise_reward` function calculates the pixelwise reward according to the above formula.\n",
        "\n",
        "* `pre_img_color_features` are the color features of the image before applying the action\n",
        "* `post_img_color_features` are the color features of the image obtained after applying the action\n",
        "* `ref_img_color_features` are the color features of the reference image\n",
        "\n",
        "The calculation of the **mean absolute error** is delegated to the [MeanAbsoluteError](https://www.tensorflow.org/api_docs/python/tf/keras/losses/MeanAbsoluteError) function of Keras."
      ]
    },
    {
      "cell_type": "code",
      "execution_count": null,
      "metadata": {
        "id": "E5_HCjScL4tB"
      },
      "outputs": [],
      "source": [
        "mae_loss = MeanAbsoluteError()\n",
        "\n",
        "def get_pixelwise_reward(pre_img_color_features,post_img_color_features,ref_img_color_features):\n",
        "  pre_ref_mae = mae_loss(ref_img_color_features,pre_img_color_features).numpy() \n",
        "  post_ref_mae = mae_loss(ref_img_color_features,post_img_color_features).numpy()\n",
        "  return pre_ref_mae-post_ref_mae"
      ]
    },
    {
      "cell_type": "markdown",
      "metadata": {
        "id": "chY_uZH-SF_n"
      },
      "source": [
        "#### Calcolo della perceptual loss"
      ]
    },
    {
      "cell_type": "markdown",
      "metadata": {
        "id": "UHNzzrvLqHgA"
      },
      "source": [
        "The `get_perceptual_reward` function calculates the perceptual reward according to the above formula.\n",
        "\n",
        "* `pre_img_perc_features` are the perceptual features of the image before applying the action\n",
        "* `post_img_perc_features` are the perceptual features of the image obtained after applying the action\n",
        "* `ref_img_perc_features` are the perceptual features of the reference image\n",
        "\n",
        "The calculation of the **mean squared error** is delegated to the [MeanSquaredError](https://www.tensorflow.org/api_docs/python/tf/keras/losses/MeanAbsoluteError) function of Keras."
      ]
    },
    {
      "cell_type": "code",
      "execution_count": null,
      "metadata": {
        "id": "4uXlZIT4wnMf"
      },
      "outputs": [],
      "source": [
        "mse_loss = MeanSquaredError()\n",
        "\n",
        "def get_perceptual_reward(pre_img_perc_features,post_img_perc_features,ref_img_perc_features):\n",
        "  pre_ref_mse = mse_loss(ref_img_perc_features,pre_img_perc_features).numpy()\n",
        "  post_ref_mse = mse_loss(ref_img_perc_features,post_img_perc_features).numpy()\n",
        "  return pre_ref_mse-post_ref_mse"
      ]
    },
    {
      "cell_type": "markdown",
      "metadata": {
        "id": "oKHlmqmYSJUi"
      },
      "source": [
        "#### Calcolo del reward"
      ]
    },
    {
      "cell_type": "markdown",
      "metadata": {
        "id": "QwMt-j2idwGp"
      },
      "source": [
        "The `get_reward` function calculates the reward for a given enhancement on an image. In our case the improvement corresponds to the application of an action.\n",
        "\n",
        "* `pre_img_color_feats` and `pre_img_perc_feats` are the features of the image on which the action will be applied\n",
        "\n",
        "* `post_img_color_feats` and `post_img_perc_feats` are the image features obtained after applying the action\n",
        "\n",
        "* `ref_img_color_feats` and `ref_img_perc_feats` are the reference image features\n",
        "\n",
        "It was decided to directly request the input features to calculate the reward to avoid re-extracting them at each `get_reward` call, improving performance.\n",
        "\n",
        "The losses measure the distance between the features of the ground truth image compared to those of the selected image (be it the image before or after the application of the action). The rewards instead measure the difference between the loss of the post-improvement image compared to the loss of the pre-improvement image, so positive reward values ​​indicate that the post-improvement image is more similar to the reference image than the pre-improvement one. -improvement.\n",
        "\n",
        "The **trend of the reward curve** of each episode of an effective training must therefore be **increasing**, an indication of the fact that the network learns to choose actions that lead to high rewards and therefore bring the image of departure to the reference image."
      ]
    },
    {
      "cell_type": "code",
      "execution_count": null,
      "metadata": {
        "id": "mSOXMdBD0BgX"
      },
      "outputs": [],
      "source": [
        "#values in documentation\n",
        "alpha = 1\n",
        "beta = 0.05\n",
        "\n",
        "def get_reward(pre_img_color_feats,pre_img_perc_feats,post_img_color_feats,post_img_perc_feats,ref_img_color_feats,ref_img_perc_feats):\n",
        "  pixelwise_reward = get_pixelwise_reward(pre_img_color_feats,post_img_color_feats,ref_img_color_feats)\n",
        "  perceptual_reward = get_perceptual_reward(pre_img_perc_feats,post_img_perc_feats,ref_img_perc_feats)\n",
        "  return (alpha*pixelwise_reward)+(beta*perceptual_reward)"
      ]
    },
    {
      "cell_type": "code",
      "execution_count": null,
      "metadata": {
        "id": "j2d9BaRRV9Ze"
      },
      "outputs": [],
      "source": [
        "#reward testing\n",
        "f1,cf1,pf1 = get_features(random_image)\n",
        "fr,cfr,pfr = get_features(random_reference)\n",
        "print(get_reward(cf1,pf1,cf1,pf1,cfr,pfr)) #should be 0\n",
        "print(get_reward(cf1,pf1,cfr,pfr,cfr,pfr)) #should be high"
      ]
    },
    {
      "cell_type": "markdown",
      "metadata": {
        "id": "fVSMueUJNSk7"
      },
      "source": [
        "### Definition of the Environment"
      ]
    },
    {
      "cell_type": "markdown",
      "metadata": {
        "id": "bni91exRMQ8I"
      },
      "source": [
        "The environment is composed of the underwater images. To be precise, the environment at each step is composed of the raw/enhanced image and the reference image, considered the ground truth.\n",
        "\n",
        "To define the environment, the Env class of Gym was used, focusing on the implementation of the two functions:\n",
        "\n",
        "* **step**: Performs a step in the environment by applying an action. Returns the new status and the new reward, calculated inside this function.\n",
        "* **reset**: Returns the environment to its initial state, is called at the end of each episode.\n",
        "\n",
        "The environment keeps track of the features of the images it displays: this choice was made to reduce the time duration of the training episodes, as it will not be necessary to re-extract the features at each reward calculation, but it will be enough to extract the new features after applying an action to the image, while the others will already be stored in the environment.\n",
        "\n",
        "The functions defined in the Environment class, which implements the environment, are as follows:\n",
        "\n",
        "* `__init__` initializes the environment\n",
        "\n",
        "* `step` performs an action on the current image and returns the features extracted from the new image (which correspond to the new state) and the reward associated with the performed action\n",
        "  * `action`: index of the action to perform\n",
        "\n",
        "* `reset` sets up a new raw image and its relative ground truth and returns the new initial state (the features extracted from the raw image)\n",
        "  * `raw_path` and `ref_path` enable a deterministic reset allowing you to select the image to load into the env. They are used to iterate over the images of the validation set being validated and the test set being tested\n",
        "\n",
        "* `render` allows you to visualize the three images of the environment"
      ]
    },
    {
      "cell_type": "code",
      "execution_count": null,
      "metadata": {
        "id": "Cy20KD-QMz5_"
      },
      "outputs": [],
      "source": [
        "class Environment(Env):\n",
        "\n",
        "    def __init__(self):\n",
        "      super(Environment, self).__init__()\n",
        "      self.image_size = (224,224)\n",
        "      self.reset()\n",
        "      self.saved_score= 0 #used only in mse reward\n",
        "\n",
        "    def step(self,action):\n",
        "      #new image creation via action application\n",
        "      new_curr_img = apply_action(action_code=action,img=self.current_image)\n",
        "      new_curr_img_feats,new_curr_img_col_feats,new_curr_img_perc_feats = get_features(new_curr_img)\n",
        "      #reward calculation\n",
        "      reward = get_reward(self.curr_img_col_feats,self.curr_img_perc_feats,\n",
        "                          new_curr_img_col_feats, new_curr_img_perc_feats,\n",
        "                          self.ref_img_col_feats, self.ref_img_perc_feats)\n",
        "      #updating environment current image\n",
        "      self.current_image = new_curr_img\n",
        "      self.curr_img_feats = new_curr_img_feats\n",
        "      self.curr_img_col_feats = new_curr_img_col_feats\n",
        "      self.curr_img_perc_feats = new_curr_img_perc_feats\n",
        "\n",
        "      return self.curr_img_feats,reward\n",
        "      \n",
        "    def reset(self, raw_path=None, ref_path=None):\n",
        "      #sample raw and reference images\n",
        "      if not raw_path is None and not ref_path is None:\n",
        "        self.raw_image = load_img(path=raw_path, target_size=self.image_size)\n",
        "        self.reference_image = load_img(path=ref_path, target_size=self.image_size)\n",
        "      else:\n",
        "        self.raw_image,self.reference_image = sample_images(target_size=self.image_size)\n",
        "      #extract features from raw and reference images\n",
        "      self.raw_img_feats,self.raw_img_col_feats,self.raw_img_perc_feats = get_features(self.raw_image)\n",
        "      self.ref_img_feats,self.ref_img_col_feats,self.ref_img_perc_feats = get_features(self.reference_image)\n",
        "      #set current image and feature like raw image and features\n",
        "      self.current_image = self.raw_image\n",
        "      self.curr_img_feats = self.raw_img_feats\n",
        "      self.curr_img_col_feats = self.raw_img_col_feats\n",
        "      self.curr_img_perc_feats = self.raw_img_perc_feats\n",
        "      self.saved_score= 0 #used only in mse reward\n",
        "      #return new initial state\n",
        "      return self.curr_img_feats\n",
        "\n",
        "    #render raw image, the enhanced if exists and the reference, and the list of actions done\n",
        "    def render(self):\n",
        "      compare_images([self.raw_image,self.current_image,self.reference_image],[\"raw image\",\"enhanced image\",\"reference image\"], (14,14))      "
      ]
    },
    {
      "cell_type": "markdown",
      "metadata": {
        "id": "GEhSCPagiKdv"
      },
      "source": [
        "The following code instantiates the environment and performs a test by performing every possible action sequentially on the sampled raw image. Images of the environment are displayed before and after the execution of the actions as an example."
      ]
    },
    {
      "cell_type": "code",
      "execution_count": null,
      "metadata": {
        "id": "YYExyiDQO_Ef"
      },
      "outputs": [],
      "source": [
        "env = Environment()\n",
        "env.render()\n",
        "\n",
        "#for test purpose: executes every action on the environment and check the return type (should be a PIL imagi)\n",
        "for i in range(0,20):\n",
        "  action_begin_time = time.time() \n",
        "  img,reward = env.step(i)\n",
        "  #check that every action return a PIL image\n",
        "  #print(env.current_image)\n",
        "  #elapsed_time = time.time() - action_begin_time\n",
        "  #test the time needed to apply the action \n",
        "  #print(\"elapsed time for action {}: {:.1f}s\".format(i,elapsed_time))\n",
        "\n",
        "env.render()"
      ]
    },
    {
      "cell_type": "markdown",
      "metadata": {
        "id": "RFEvXlZeN5Zr"
      },
      "source": [
        "### Deep Q-Network come agente\n",
        "\n",
        "\n"
      ]
    },
    {
      "cell_type": "markdown",
      "metadata": {
        "id": "ZdEmJQgAFRv5"
      },
      "source": [
        "The DQN as an agent is implemented.\n",
        "The DQN proposed by the paper is architecturally composed of four fully connected layers: the input is represented by the current state (the image features) and returns the Q-value for each possible action that the agent could take. There will be as many output neurons as there are actions.\n",
        "\n",
        "The figure below shows the architecture of the DQN:\n",
        "\n",
        "\n",
        "<div>\n",
        "<img src=\"https://drive.google.com/uc?id=1FQBSVueEkI5gnM_evJsRYO_FaaD60JNw\" width=\"400\"/>\n",
        "</div>\n"
      ]
    },
    {
      "cell_type": "code",
      "execution_count": null,
      "metadata": {
        "id": "ksWgKDolOV2T"
      },
      "outputs": [],
      "source": [
        "def build_dqn(neuron_in_input_layer,neuron_in_hidden_layers,neuron_in_output_layer):\n",
        "    model = Sequential()\n",
        "    \n",
        "    #input layer\n",
        "    model.add(layers.Input(shape=neuron_in_input_layer,name='Input'))\n",
        "    #hidden layers\n",
        "    for n in neuron_in_hidden_layers:\n",
        "        model.add(layers.Dense(n,activation='relu'))\n",
        "    #output layer\n",
        "    model.add(layers.Dense(neuron_in_output_layer,name='Output'))\n",
        "\n",
        "    return model\n",
        "\n",
        "neuron_in_hidden_layers = (4096,4096,512)"
      ]
    },
    {
      "cell_type": "markdown",
      "metadata": {
        "id": "XUtyfum8b38R"
      },
      "source": [
        "#### Model creation"
      ]
    },
    {
      "cell_type": "code",
      "execution_count": null,
      "metadata": {
        "id": "S7UrD-hZb_5u"
      },
      "outputs": [],
      "source": [
        "dqn = build_dqn(features_number,neuron_in_hidden_layers,actions_number)"
      ]
    },
    {
      "cell_type": "markdown",
      "metadata": {
        "id": "WHplgWPYlwHJ"
      },
      "source": [
        "#### Visualizzazione del modello"
      ]
    },
    {
      "cell_type": "code",
      "execution_count": null,
      "metadata": {
        "id": "2y4LJMMAlzww"
      },
      "outputs": [],
      "source": [
        "dqn.summary()"
      ]
    },
    {
      "cell_type": "code",
      "execution_count": null,
      "metadata": {
        "id": "jijpkRNFn5cx"
      },
      "outputs": [],
      "source": [
        "plot_model(dqn,show_shapes=True)"
      ]
    },
    {
      "cell_type": "markdown",
      "metadata": {
        "id": "BMjn9B0y3UWw"
      },
      "source": [
        "#### Model compilation\n",
        "Compiling the model is the final step in setting up the model for learning. The important parameters are:\n",
        "\n",
        "* the optimization algorithm: **ADAM**\n",
        "* the loss function: **Mean Squared Error**\n",
        "\n",
        "Only the evaluation model is compiled because, during the training process, only its weights are updated using the gradient descent algorithm. The weights of the target model are periodically replaced with those of the evaluation model."
      ]
    },
    {
      "cell_type": "code",
      "execution_count": null,
      "metadata": {
        "id": "f5ykcW5w3W8O"
      },
      "outputs": [],
      "source": [
        "opt = Adam(learning_rate=0.001)\n",
        "\n",
        "dqn.compile(optimizer=opt, loss=\"mse\", metrics=['accuracy'])"
      ]
    },
    {
      "cell_type": "markdown",
      "metadata": {
        "id": "drAUv3Q2JI32"
      },
      "source": [
        "### Action selection"
      ]
    },
    {
      "cell_type": "markdown",
      "metadata": {
        "id": "ASc4SJjVJU3c"
      },
      "source": [
        "The actions are selected using a ϵ-greedy algorithm: with probability $\\epsilon$ a random action will be selected (**exploration**) and with probability $1-\\epsilon$ the action with the highest expected reward will be selected ( **exploitation**).\n",
        "\n",
        "The value of ϵ is initialized to $1.0$ (exploration only) and is decremented during training up to $0.1$ (mainly exploitation)"
      ]
    },
    {
      "cell_type": "markdown",
      "metadata": {
        "id": "ZBThCZ3hG6-8"
      },
      "source": [
        "## **Double DQN**"
      ]
    },
    {
      "cell_type": "markdown",
      "metadata": {
        "id": "eRMwXGE5139F"
      },
      "source": [
        "### Objective"
      ]
    },
    {
      "cell_type": "markdown",
      "metadata": {
        "id": "Kp20eYU5QxWR"
      },
      "source": [
        "The problem is modeled as a Markov Decision Process (MDP) so the agent's goal becomes to learn the optimal policy that chooses in each state the action with the highest total cumulative reward.\n",
        "\n",
        "At instant $t$ the **cumulative reward** (evaluation of action $a$ on state $s$) is defined as the reward obtained by performing action $a$ on state $s$ plus the maximum reward obtainable in the next move:\n",
        "\n",
        "> $Q(s_t,a_t) = r(s_t,a_t)+\\gamma max(Q(s_{t+1},a_{t+1}))$\n",
        "\n",
        "* $0 \\le \\gamma \\le 1$ is the **discount rate** and expresses how much to consider the reward of the next action compared to the reward of the current one\n",
        "\n",
        "The MDP has the **Markov property**, according to which the action $a_t$ at step $t$ is determined only on the basis of the state $s_t$, regardless of the previous states.\n",
        "\n",
        "The best action $a_t^*$ at step $t$ is therefore the action $a$ that maximizes $Q(s_t,a_t)$ in the following **objective function**:\n",
        "\n",
        "> $a_t^* = argmax_{a_t(i)} Q(s_t,a_t(i))$\n",
        "\n",
        "* $i$ is the stock index\n",
        "\n",
        "The objective is that the agent, interacting continuously with the environment, learns the optimal sequence of actions to undertake."
      ]
    },
    {
      "cell_type": "markdown",
      "metadata": {
        "id": "kM85yKer2F9b"
      },
      "source": [
        "### Training"
      ]
    },
    {
      "cell_type": "markdown",
      "metadata": {
        "id": "5FLtruWg2I08"
      },
      "source": [
        "Optimizing the objective function requires learning the $\\omega$ weights of the agent, then rewriting $Q(s,a)$ as $Q(s,a;\\omega)$ and describing the training against $\\ omega$.\n",
        "\n",
        "A DDQN made up of 2 identical DQNs is used. The use of a second DQN allows to stabilize the algorithm by decoupling the selection of the stock from the calculation of its Q-value.\n",
        "\n",
        "* the **DQN evaluation** selects the action to be performed. This evaluates all possible actions in the state $s_{t+1}$ and chooses the action $a_{t+1}(i^*)$ with the highest Q-value (adopting the ϵ-greedy algorithm there is a probability ϵ that the network chooses an action randomly).\n",
        "\n",
        "> $a_{t+1}(i^*) = argmax_{a_{t+1}(i)} Q(s_{t+1},a_{t+1}(i);\\omega)$\n",
        "\n",
        "* the **target DQN** estimates the Q-value relating to the action $a_{t+1}(i^*)$ selected by the DQN evaluation and calculates $\\hat Q_*(s_t,a_t;\\omega^- )$.\n",
        "Target DQN weights are identified by $\\omega^-$.\n",
        "\n",
        "> $\\hat Q_*(s_t,a_t;\\omega^-) = r_t+\\gamma \\hat Q(s_{t+1},a_{t+1}(i^*);\\omega^-)$\n",
        "\n",
        "The **loss function** for learning $\\omega$ is therefore defined as the squared difference between the cumulative reward calculated by the target DQN $\\hat Q_*(s_t,a_t;\\omega^-)$ and the one calculated from the DQN evaluation $Q(s_t,a_t;\\omega)$:\n",
        "\n",
        "> $L(\\omega) = [\\hat Q_*(s_t,a_t;\\omega^-) - Q(s_t,a_t;\\omega)]^2$\n",
        "\n",
        "According to the implementation described in the paper, after each mini-batch ADAM is used to update the $\\omega$ weights of the DQN evaluation and to copy these weights to $\\omega^-$, thus updating the target DQN weights. In the following implementation it was decided to take advantage of having two models, therefore the target DQN update operations will be less frequent than the evaluation DQN update operations.\n",
        "\n",
        "The following graph summarizes the DDQN training process.\n",
        "\n",
        "<div>\n",
        "<img src=\"https://drive.google.com/uc?id=1pc7s_TOuWOzdk55aaScCZNCQBqkCkSIZ\" width=\"600\"/>\n",
        "</div>"
      ]
    },
    {
      "cell_type": "markdown",
      "metadata": {
        "id": "HeNUgrepw4hw"
      },
      "source": [
        "### Replay Memory"
      ]
    },
    {
      "cell_type": "markdown",
      "metadata": {
        "id": "wqF35cpixH26"
      },
      "source": [
        "The **experience replay** allows to manage the problem of correlation (correlated transitions make the network tend to forget what it hasn't seen for a long time).\n",
        "\n",
        "* During training the transitions $(s_t,a_t,r_t,s_{t+1})$ obtained from the DQN evaluation are saved in memory\n",
        "* the data used by the DQN target to calculate the target value is randomly sampled from memory\n",
        "\n",
        "The **Memory** class implements replay memory and these are the methods it exposes:\n",
        "\n",
        "* `__init__` initializes memory by building lists\n",
        "\n",
        "* `store` adds a transition to memory\n",
        "  * `state`, `action`, `reward`, `next_state` are the components of the transition to store\n",
        "  * `done` specifies whether the transition results in a final state or not. With final state we mean a state on which the stop condition is verified (all the calculated Q-values ​​are negative)\n",
        "\n",
        "* `sample` randomly samples a number of transitions from memory\n",
        "  * `batch_size` number of transitions to sample\n",
        "\n",
        "* `reset` deletes all transitions saved in memory"
      ]
    },
    {
      "cell_type": "code",
      "execution_count": null,
      "metadata": {
        "id": "P2tbumGYrSKy"
      },
      "outputs": [],
      "source": [
        "class Memory:\n",
        "  def __init__(self,max_length):\n",
        "    self.max_length = max_length\n",
        "    self.reset()\n",
        "  \n",
        "  def store(self, state, action, reward, next_state, done):\n",
        "    if self.stored_transitions < self.max_length:\n",
        "      self.action_list[self.stored_transitions] = action\n",
        "      self.state_list[self.stored_transitions] = state\n",
        "      self.reward_list[self.stored_transitions] = reward\n",
        "      self.next_state_list[self.stored_transitions] = next_state\n",
        "      self.done_list[self.stored_transitions] = done\n",
        "      self.stored_transitions += 1\n",
        "\n",
        "  def sample(self, batch_size):\n",
        "    #it sample 'batch_size' casual indexes\n",
        "    index = sample(range(0,self.stored_transitions), batch_size)\n",
        "    #get the transitions with those indexes\n",
        "    return self.state_list[index],self.action_list[index],self.reward_list[index],self.next_state_list[index],self.done_list[index]\n",
        "  \n",
        "  def reset(self):\n",
        "    self.state_list = np.zeros((self.max_length, features_number), dtype=np.float32)\n",
        "    self.action_list = np.zeros(self.max_length, dtype=np.int32)\n",
        "    self.reward_list = np.zeros(self.max_length, dtype=np.float32)\n",
        "    self.next_state_list = np.zeros((self.max_length, features_number), dtype=np.float32)\n",
        "    self.done_list = np.zeros((self.max_length), dtype=bool)\n",
        "    self.stored_transitions = 0\n"
      ]
    },
    {
      "cell_type": "markdown",
      "metadata": {
        "id": "zebXTNUTgQhj"
      },
      "source": [
        "### Classe DoubleDeepQNetwork"
      ]
    },
    {
      "cell_type": "markdown",
      "metadata": {
        "id": "dW0LcHKObwiD"
      },
      "source": [
        "The DoubleDeepQNetwork class implements the DDQN and exposes the following methods:\n",
        "\n",
        "* `__init__`: constructor that initializes the class.\n",
        "  * `state_size`: number of features that make up a single state of the environment\n",
        "  * `actions_number`: number of possible actions that can be performed\n",
        "  * `memory_length`: replay memory size (number of transitions that can be stored)\n",
        "  * `alpha`: learning rate of the DQN evaluation and controls how much the new Q-value is\n",
        "considered compared to the old\n",
        "  * `gamma`: reward discount factor, used in the cumulative reward calculation to specify how much to consider the reward of the next action compared to that of the current action\n",
        "  * `epsilon`: value that initially specifies the probability that the model will explore versus exploit\n",
        "  * `epsilon_min`: minimum value that $\\epsilon$ can reach\n",
        "  * `epsilon_decay`: decay factor of $\\epsilon$; after each episode\n",
        "  * `alpha_min`: minimum value achievable by the learning rate\n",
        "  * `alpha_decay_step`: number of steps after which a reduction of the learning rate is performed\n",
        "  * `alpha_decay_rate`: learning rate reduction percentage at each decay operation\n",
        "\n",
        "  Here the two DQNs are built by calling the `build_dqn` method defined earlier. As regards the compilation, only the evaluation DQN is compiled, while the weights of the target DQN are set periodically by copying those of the first DQN. The DQN evaluation is compiled by setting ADAM as optimizer (with `alpha` as learning rate) and the **mean square error** as loss.\n",
        "\n",
        "  The learning rate decay is implemented using the Keras [optimizers](https://keras.io/api/optimizers/) module\n",
        "\n",
        "* `update_target_from_eval`: update the weights of the target DQN with those of the evaluation DQN; this update happens periodically, after a specified number of episodes.\n",
        "\n",
        "* `select_action`: returns the action to perform on the state passed in input; here the $\\epsilon$-greedy strategy is implemented, as it is decided whether to return a random action (exploration) or the action deemed best (exploitation)\n",
        "  * `state` state on which the action will be performed (it is the vector of the features extracted from the image)\n",
        "\n",
        "* `check_if_done`: check the end-of-episode condition, i.e. if all actions on the current state lead to a negative q-value\n",
        "  * `state` state for which it will be checked if there are other applicable actions that produce a positive Q-value or if the termination condition has been reached\n",
        "\n",
        "* `train`: train the DQN evaluation, updating its weights:\n",
        "    \n",
        "    1. `batch_size` transitions $<s_t are extracted from memory,\n",
        "a_t,r_{t+1},s_{t+1}>$\n",
        "\n",
        "    2. with the DQN evaluation the Q-values ​​are calculated for the states $s_{t+1}$, finding the best action $a_{t+1}[i]$\n",
        "\n",
        "    3. with the target DQN the Q-values ​​of the states $s_{t+1}$ are calculated\n",
        "\n",
        "    4. the target Q-value for the share $a[i]$ is calculated\n",
        "\n",
        "    5. the DQN evaluation is trained on the states of the mini-batch passing the Q-value obtained at point $4$ as the target value\n",
        "\n",
        "* `store`: save transition $<s_t,a_t,r_{t+1},s_{t+1}>$ in memory\n",
        "  * `state` is the $s_t$ state of the transition\n",
        "  * `action` is the action $a_t$ performed in state $s_t$\n",
        "  * `reward` is the reward $r_{t+1}$ obtained following the execution of the action $a_t$ in the state $s_t$\n",
        "  * `nstate` is the new state $s_{t+1}$\n",
        "\n",
        "* `epsilon_decay`: update the value of $\\epsilon$ by multiplying it by the decay factor"
      ]
    },
    {
      "cell_type": "code",
      "execution_count": null,
      "metadata": {
        "id": "K0x6hHm6H7mR"
      },
      "outputs": [],
      "source": [
        "class DoubleDeepQNetwork():\n",
        "    \n",
        "  def __init__(self,state_size,actions_number,memory_length,alpha,gamma,epsilon,epsilon_min,epsilon_decay_rate,alpha_min,alpha_decay_step,alpha_decay_rate):\n",
        "    self.memory = Memory(max_length=memory_length)\n",
        "    self.alpha = alpha\n",
        "    self.gamma = gamma\n",
        "    #Explore/Exploit\n",
        "    self.epsilon = epsilon\n",
        "    self.epsilon_min = epsilon_min\n",
        "    self.epsilon_decay_rate = epsilon_decay_rate\n",
        "    #creation of evaluation and target DQN\n",
        "    self.evaluation_model = build_dqn(state_size, neuron_in_hidden_layers, actions_number)\n",
        "    self.target_model = self.evaluation_model #Second (target) neural network\n",
        "    #compilation of the evaluation DQN\n",
        "    lr_schedule = keras.optimizers.schedules.ExponentialDecay(initial_learning_rate=alpha, decay_steps=alpha_decay_step,decay_rate=alpha_decay_rate)\n",
        "    self.optimizer = Adam(learning_rate=lr_schedule)\n",
        "    self.evaluation_model.compile(optimizer=self.optimizer, loss='mse', metrics=['accuracy'])\n",
        "  \n",
        "    self.update_target_from_eval() #Update weights\n",
        "    self.loss = []\n",
        "      \n",
        "  def update_target_from_eval(self):\n",
        "    #Update the target model from the evaluation model\n",
        "    self.target_model.set_weights( self.evaluation_model.get_weights() )\n",
        "\n",
        "  def select_action(self, state):\n",
        "    if np.random.rand() <= self.epsilon: #exploring   \n",
        "      action = randrange(self.actions_number) #Explore\n",
        "      #print('explore: action is', action)\n",
        "    else: #exploiting: the DQN takes the q-values for each action and chooses the one with the highest value\n",
        "      state = np.expand_dims(state, axis=0) #add one axis to conform array with DQN input (first axis is the for state instance)\n",
        "      action_vals = self.evaluation_model.predict(state,verbose='0')\n",
        "      action = np.argmax(action_vals[0])\n",
        "      #print('exploit: action is', action, action_vals[0])\n",
        "    return action\n",
        "\n",
        "  def check_if_done(self, state):\n",
        "    #if all the actions of the input state have negative q-value, it returns true\n",
        "    state = np.expand_dims(state, axis=0)\n",
        "    action_vals = self.evaluation_model.predict(state,verbose='0')\n",
        "    if np.max(action_vals[0]) < 0: return True\n",
        "    else: return False \n",
        "\n",
        "  def train(self, batch_size):\n",
        "    #random sampling from memory\n",
        "    states,actions,rewards,next_states,dones = self.memory.sample(batch_size)\n",
        "    #q-value calculation for every state s_t retrieved from memory\n",
        "    eval_q_values = self.evaluation_model.predict(states,verbose='0')\n",
        "    #tmp: target vals initialization\n",
        "    target_q_values = eval_q_values \n",
        "    #q-value calculation for every state s_t+1 retrieved from memory\n",
        "    next_eval_q_values = self.evaluation_model.predict(next_states,verbose='0')\n",
        "    next_target_q_values = self.target_model.predict(next_states,verbose='0')\n",
        "\n",
        "    for batch_index in range(len(states)):\n",
        "      best_next_action_index = np.argmax(next_eval_q_values[batch_index])\n",
        "      #print('best_next_action_index is',best_next_action_index)\n",
        "      if(dones[batch_index]):\n",
        "        target_q_values[batch_index][best_next_action_index] = rewards[batch_index]\n",
        "      else:\n",
        "        target_q_values[batch_index][best_next_action_index] = rewards[batch_index] + (self.gamma * next_target_q_values[batch_index][best_next_action_index])\n",
        "\n",
        "    #train the eval dqn on states with target_dqn q-val as target\n",
        "    self.evaluation_model.train_on_batch(states,target_q_values)\n",
        "\n",
        "  def store(self, state, action, reward, nstate, done):\n",
        "    #Store the experience in memory\n",
        "    self.memory.append( (state, action, reward, nstate, done) )\n",
        "\n",
        "  def epsilon_decay(self):\n",
        "    if(self.epsilon > self.epsilon_min):\n",
        "      self.epsilon = max(self.epsilon_min, self.epsilon * self.epsilon_decay_rate)"
      ]
    },
    {
      "cell_type": "markdown",
      "metadata": {
        "id": "VMWK50pSQEFU"
      },
      "source": [
        "## Esperimento"
      ]
    },
    {
      "cell_type": "markdown",
      "metadata": {
        "id": "a4z6iljI5HPP"
      },
      "source": [
        "### training implementation"
      ]
    },
    {
      "cell_type": "markdown",
      "metadata": {
        "id": "fLyCT05ZdibZ"
      },
      "source": [
        "The training of the DDQN is implemented below. The training follows these steps:\n",
        "\n",
        "1. Given a raw image, the features are extracted and these correspond to the initial state $s_0$\n",
        "\n",
        "2. Using the DQN evaluation, the Q-value for the current state of each action is calculated\n",
        "\n",
        "3. The action with the higher Q-value is applied, obtaining an \"enhanced\" image\n",
        "\n",
        "4. If the Q-values ​​obtained for the \"enhanced\" image are all negative (or the maximum number of steps allowed per episode has been reached) the episode is terminated, otherwise it continues to iterate starting from point 1"
      ]
    },
    {
      "cell_type": "code",
      "execution_count": null,
      "metadata": {
        "id": "LXFJaglajA1Y"
      },
      "outputs": [],
      "source": [
        "#DDQN configuration\n",
        "learning_rate = 1e-5\n",
        "min_learning_rate = 1e-8\n",
        "learning_rate_decade_step = 5000\n",
        "learning_rate_decay_rate = 0.96\n",
        "discount_rate = 0.99\n",
        "batch_size = 32\n",
        "epsilon=1 \n",
        "epsilon_min=0.1\n",
        "epsilon_decay_rate=0.9996\n",
        "\n",
        "episodes = 10_000\n",
        "actions_number = 20 #action indexes: 0-19\n",
        "\n",
        "#used to save weight during training\n",
        "backup_weights = False \n",
        "#used to tell if train the ddqn or if it need to load weights from the h5 file\n",
        "load_weights = True\n",
        "\n",
        "episode_max_steps = 50 #max number of iterations for episode\n",
        "step_per_update_eval_dqn = 10 #steps before training evaluation dqn\n",
        "step_per_update_targ_dqn = episode_max_steps #steps before copying evaluation dqn weights into target dqn\n",
        "mem_length = 50_000\n",
        "\n",
        "ddqn = DoubleDeepQNetwork(state_size=features_number,actions_number=actions_number, memory_length=mem_length,\n",
        "                          alpha=learning_rate,gamma=discount_rate,epsilon=epsilon,epsilon_min=epsilon_min, epsilon_decay_rate=epsilon_decay_rate,\n",
        "                          alpha_min=min_learning_rate,alpha_decay_step=learning_rate_decade_step,alpha_decay_rate=learning_rate_decay_rate)"
      ]
    },
    {
      "cell_type": "code",
      "execution_count": null,
      "metadata": {
        "id": "T_QetOesInU3"
      },
      "outputs": [],
      "source": [
        "#ddqn training function definition\n",
        "def train_ddqn():\n",
        "  total_step_count = 0\n",
        "  training_start_time = time.time()\n",
        "  moving_avg_window_size=20 # Number of consecutive episodes to be considered in the calculation of the total reward moving average\n",
        "  train_rewards = []\n",
        "\n",
        "  for episode in range(episodes):\n",
        "    episode_start_time = time.time()\n",
        "    state = env.reset() #reset the environment and get features of raw image\n",
        "    episode_reward = 0 #initialize total reward\n",
        "    done = False\n",
        "    step_count = 0\n",
        "\n",
        "    while not done:\n",
        "      step_count += 1\n",
        "      total_step_count += 1\n",
        "\n",
        "      action = ddqn.select_action(state) #get the action to execute\n",
        "      next_state, reward = env.step(action) #execute the action and get features of the enhanced image and reward\n",
        "      episode_reward += reward #update total reward\n",
        "      done = ddqn.check_if_done(next_state) #check if every next-action states have negative q-values\n",
        "      ddqn.memory.store(state, action, reward, next_state,done) #store actual transition in ddqn memory\n",
        "      state = next_state #update ddqn state\n",
        "\n",
        "      if step_count % step_per_update_eval_dqn == 0 and ddqn.memory.stored_transitions >= batch_size:\n",
        "        ddqn.train(batch_size)\n",
        "\n",
        "      if step_count % step_per_update_targ_dqn == 0:\n",
        "        ddqn.update_target_from_eval()\n",
        "            \n",
        "      if done or step_count>=episode_max_steps:\n",
        "        train_rewards.append(episode_reward) #save episode reward for visualization\n",
        "\n",
        "        episode_finish_time=time.time()\n",
        "        episode_elapsed_time=episode_finish_time-episode_start_time\n",
        "        training_elapsed_time=episode_finish_time-training_start_time\n",
        "        moving_avg_reward=mean(train_rewards[-moving_avg_window_size:])\n",
        "        print(\"Episode: {}/{}, steps: {}[{}], Total reward: {}[{:.1f}], time: {:.1f}s[{:.1f}m], e: {}\".format(episode+1,\n",
        "                                                                                episodes,\n",
        "                                                                                step_count,\n",
        "                                                                                total_step_count,\n",
        "                                                                                episode_reward,\n",
        "                                                                                moving_avg_reward,\n",
        "                                                                                episode_elapsed_time,\n",
        "                                                                                training_elapsed_time/60,\n",
        "                                                                                ddqn.epsilon))\n",
        "        ddqn.epsilon_decay()\n",
        "\n",
        "        #save model weights every X episodes\n",
        "        if backup_weights and episode % 100 == 0:\n",
        "          ddqn.evaluation_model.save_weights(\"evalDqn-epsiode{}.h5\".format(episode))\n",
        "\n",
        "        break\n",
        "\n",
        "  training_finish_time=time.time()\n",
        "  training_elapsed_time=training_finish_time-training_start_time\n",
        "  print(\"training time: {:.1f}m, average episode time: {:.1f}s\".format(training_elapsed_time/60,\n",
        "                                                           training_elapsed_time/episodes))\n",
        "  #plot training rewards\n",
        "  plot_training_rewards(train_rewards,moving_avg_window_size)"
      ]
    },
    {
      "cell_type": "markdown",
      "metadata": {
        "id": "esnu1_ewJgky"
      },
      "source": [
        "Due to the limits imposed by Colab regarding the allowed execution time and to carry out the training in less time, the training was carried out on the DISI HPC cluster. From the DQN evaluation the weights were then exported and in the following block they are loaded to carry out the performance analysis.\n",
        "\n",
        "\n",
        "\n"
      ]
    },
    {
      "cell_type": "code",
      "execution_count": null,
      "metadata": {
        "id": "gnWy7vZVc5jk"
      },
      "outputs": [],
      "source": [
        "if load_weights:\n",
        "  print(\"loading weights from file\")\n",
        "  weights_path= \"/dqn-w.h5\"\n",
        "  path_to_downloaded_file = get_file(\n",
        "      weights_path,\n",
        "      \"https://drive.google.com/u/0/uc?id=1Vr5VvLpzIi8tVX3RdgipbEtYK7vQNfFb&export=download&confirm=t&uuid=a911e909-c2fa-4fd4-8231-995cd8aba324\")\n",
        "  ddqn.evaluation_model.load_weights(path_to_downloaded_file)\n",
        "else:\n",
        "  print(\"starting training\")\n",
        "  train_ddqn()"
      ]
    },
    {
      "cell_type": "markdown",
      "metadata": {
        "id": "Prqm8udzV2_q"
      },
      "source": [
        "### Validation"
      ]
    },
    {
      "cell_type": "markdown",
      "metadata": {
        "id": "2XG11RiiNWIG"
      },
      "source": [
        "Each training is followed by a validation phase on a subsection of the dataset separate from the training set.\n",
        "\n",
        "The performance on the validation set was saved and compared against each other to determine which hyperparameter configuration gave the best results.\n",
        "\n",
        "Performance was evaluated by calculating an average for each of the three selected metrics (MSE, PSNR and SSIM) on each image of the validation set.\n",
        "\n",
        "* **Mean Squared Error** MSE: obtained by calculating the mean squared error between each pixel of the 2 images. The lower it is, the less the 2 images differ from each other. As a metric it is very common and simple to calculate:\n",
        "\n",
        "  > $MSE = \\frac{1}{WH} \\sum_{w,h} [I_1(w,h)-I_2(w,h)]^2$\n",
        "\n",
        "  * $W$ and $H$ are the dimensions of the image\n",
        "  * $I_1$ and $I_2$ are the pixels of the images\n",
        "\n",
        "  Skimage's [mean_squared_error](https://scikit-image.org/docs/stable/api/skimage.metrics.html#skimage.metrics.mean_squared_error) method was used to calculate MSE.\n",
        "\n",
        "* **Peak Signal-to-Noise Ratio** PSNR: indicator used to measure the quality of a compressed (or reconstructed) image compared to the original. The higher it is, the better the image quality. PSNR is also a common and easy to calculate metric:\n",
        "\n",
        "  > $PSN = 10*log_{10}(\\frac{R^2}{MSE})$\n",
        "\n",
        "  * R is the maximum possible value of the individual pixels of the images (in the case of RGB images it is 255)\n",
        "  * MSE is the mean squared error between the 2 images\n",
        "\n",
        "  Skimage's [peak_signal_noise_ratio](https://scikit-image.org/docs/stable/api/skimage.metrics.html#skimage.metrics.peak_signal_noise_ratio) method was used to calculate PSNR\n",
        "\n",
        "* **Structural Similarity** SSIM: measure used to evaluate the similarity between two images. Unlike MSE and PSNR it uses absolute error instead of quadratic. The higher the SSIM, the more similar the 2 images are to each other.\n",
        "\n",
        "  Skimage's [structural_similarity](https://scikit-image.org/docs/stable/api/skimage.metrics.html#skimage.metrics.structural_similarity) method was used to calculate the SSIM"
      ]
    },
    {
      "cell_type": "code",
      "execution_count": null,
      "metadata": {
        "id": "TzP57u6kbUhn"
      },
      "outputs": [],
      "source": [
        "#do validation only after training, if weights are loaded from file skip it\n",
        "if not load_weights:\n",
        "  total_mse = total_psnr = total_ssim = 0 #initialize metrics total counter\n",
        "  ddqn.epsilon = 0 #setting epsilon to 0 to obtain only exploitation\n",
        "\n",
        "  #restore environment image size\n",
        "  env.image_size = (224,224)\n",
        "\n",
        "  #iterate over the validation set\n",
        "  for index, (raw_path,ref_path) in enumerate(zip(images_raw_val,images_ref_val)):\n",
        "    state = env.reset(raw_path, ref_path)\n",
        "    tot_rewards = 0\n",
        "    done = False\n",
        "    step_count = 1\n",
        "    \n",
        "    while not done:\n",
        "      action = ddqn.select_action(state) #use eval dqn for predicting optimal action\n",
        "      new_state, reward = env.step(action) #apply action on the environment image\n",
        "      done = ddqn.check_if_done(state) #check if image can be improved\n",
        "      tot_rewards += reward #update total reward\n",
        "      state = new_state #update state with new features\n",
        "      \n",
        "      if done or step_count >= 10:\n",
        "        #calculate metrics for the obtained image\n",
        "        mse = mean_squared_error(np.array(env.current_image), np.array(env.reference_image))\n",
        "        psnr = peak_signal_noise_ratio(np.array(env.current_image), np.array(env.reference_image))\n",
        "        ssim = structural_similarity(im1=np.array(env.current_image), im2=np.array(env.reference_image), multichannel=True)\n",
        "        print(\"episode: {}, steps: {}, episode reward: {}, mse: {}, psnr: {}, ssim: {}\".format(index,\n",
        "                                                                                              step_count,\n",
        "                                                                                              tot_rewards,\n",
        "                                                                                              mse,\n",
        "                                                                                              psnr,\n",
        "                                                                                              ssim))\n",
        "        total_mse += mse\n",
        "        total_psnr += psnr\n",
        "        total_ssim += ssim\n",
        "        break\n",
        "      step_count += 1\n",
        "\n",
        "  avg_mse = total_mse / len(images_raw_val)\n",
        "  avg_psnr = total_psnr / len(images_raw_val)\n",
        "  avg_ssim = total_ssim / len(images_raw_val)\n",
        "\n",
        "  print(\"lr: {}, alpha: {}, beta: {}, episode: {} with max steps {}\".format(learning_rate,\n",
        "                                                                            alpha,\n",
        "                                                                            beta,\n",
        "                                                                            episodes,\n",
        "                                                                            episode_max_steps))\n",
        "  print(\"avg mse: {}, avg_psnr: {}, avg ssim: {}\".format(avg_mse,\n",
        "                                                         avg_psnr,\n",
        "                                                         avg_ssim))"
      ]
    },
    {
      "cell_type": "markdown",
      "metadata": {
        "id": "eQi8al-PPOb1"
      },
      "source": [
        "### Results"
      ]
    },
    {
      "cell_type": "markdown",
      "metadata": {
        "id": "_Qr3AGDWPQ99"
      },
      "source": [
        "Several trainings were conducted using different values ​​of the hyperparameters: for each experiment, the graph of the reward trend and the values ​​of the metrics obtained from the validation phase were evaluated.\n",
        "\n",
        "The paper shows that at each step the DQN evaluation is trained on a batch of 4 transitions and subsequently the weights are copied to the target DQN. In the experiments conducted for the collection of the underlying data, different values ​​were used, performing a maximum of 50 steps per episode (`episode_max_steps` parameter), training the DQN evaluation every 10 steps (`step_per_update_eval_dqn` parameter) and copying the weights from the evaluation to the target DQN at the end of each episode (`step_per_update_targ_dqn` parameter). In this way, the fact of having two different models with respect to what is described in the paper is better exploited.\n",
        "\n",
        "The following table shows the configurable hyperparameters and the default values ​​for each of them. Some values ​​have been taken from the paper, while others (missing or present but not very sensible for our implementation) have been identified by doing various test runs.\n",
        "\n",
        "Parametro             | Valore\n",
        "---                   | ---\n",
        "learning rate         | 1e-5 \n",
        "learning rate minimum  | 1e-8\n",
        "decay step del lr     | 0.96\n",
        "discount rate         | 0.99\n",
        "dimensione batch      | 32\n",
        "epsilon iniziale      | 1\n",
        "epsilon minimum        | 0.1\n",
        "decay step di epsilon | 0.99\n",
        "episodi               | 10_000\n",
        "max step per episodio | 50\n",
        "alpha                 | 1\n",
        "beta                  | 0.05\n",
        "\n",
        "The following graph shows the reward trend during training done with the hyperparameters listed above. We could have expected an increasing trend, indicating that the agent is learning to improve raw images effectively, while from the graph it would appear that the model does not learn the desired policy.\n",
        "\n",
        "<div>\n",
        "<img src=\"https://drive.google.com/uc?id=1ijYKyU6nz6gYF4xXP9hjyDtlyXWwOUhm\" />\n",
        "</div>\n",
        "\n",
        "Subsequently, a test was made by raising the learning rate to $1e-4$, to understand if the increase in the learning rate would lead to an increase in the learning speed of the desired policy.\n",
        "\n",
        "The following graph shows the absence of the expected change in terms of the reward trend, indicating that the agent has not learned the desired behavior despite the increase in the learning rate.\n",
        "\n",
        "<div>\n",
        "<img src=\"https://drive.google.com/uc?id=1n2GLGZt7Y3bP4FNK1IR6S3c1YqpGt930\" />\n",
        "</div>\n",
        "\n",
        "In the next test, the method of selecting the action in the exploiting phase was changed: instead of choosing the action with the highest Q-value among those obtained from the DQN evaluation, the one with the lowest Q-value is selected.\n",
        "\n",
        "The test had the purpose of verifying a possible change both in the reward trend and in the performance of the model. The image below shows an increase in the range of reward values ​​in the individual episodes, but no change in terms of graph performance, an indication of the failure to learn the objective policy.\n",
        "\n",
        "<div>\n",
        "<img src=\"https://drive.google.com/uc?id=1zkz70nIeybv6lYRNNsNaQnondSC8Aeyr\" />\n",
        "</div>\n",
        "\n",
        "The results on the validation set, shown in the table below, show that the test with the increased learning rate gave better results than the other two training sessions performed.\n",
        "\n",
        "Method         | MSE(x$10^3$) $\\downarrow$ | PSNR $\\uparrow$ | SSIM $\\uparrow$\n",
        "---            | ---    | ---     | --- \n",
        "**lr 1e-5**    | **9.1822** | **8.7603** | **0.1078**\n",
        "**lr 1e-4**    | **7.7312** | **9.5924** | **0.1410**\n",
        "**argmin**     | **16.6831** | **6.0483** | **0.0075**"
      ]
    },
    {
      "cell_type": "markdown",
      "metadata": {
        "id": "Q5ONkESnfWKq"
      },
      "source": [
        "#### Single image"
      ]
    },
    {
      "cell_type": "markdown",
      "metadata": {
        "id": "bi9X-aOomZfe"
      },
      "source": [
        "It was thought that the number of steps performed on the images of the training set was not sufficient to allow the model to learn an effective policy, therefore a test was conducted where the environment reset always loaded the same image: in practice the model works on a single image.\n",
        "\n",
        "The test involved 10,000 episodes of 10 steps each, with a learning rate of 1e-5, while the other hyperparameters were left unchanged.\n",
        "\n",
        "<div>\n",
        "<img src=\"https://drive.google.com/uc?id=1SBAvglapY_szQ2HFCzMfp5gDLCsLfkve\" />\n",
        "</div>\n",
        "\n",
        "The graph highlights a training without learning for the first 5000 episodes following which the DQN evaluation always starts selecting the same action in the exploiting phase (the action in question varies from training to training) and this explains the transition from random reward trend in the first episodes to an almost linear trend in the last episodes.\n",
        "\n",
        "Method         | MSE(x$10^3$) $\\downarrow$ | PSNR $\\uparrow$ | SSIM $\\uparrow$\n",
        "---            | ---    | ---     | --- \n",
        "**env con stessa immagine** | **14.0121** | **6.6658** | **0.0183**\n",
        "\n",
        "It highlights the fact that the validation was done only on the image used during the training, to verify if the network has actually learned to improve this image. Despite the higher number of steps performed on the same image, the performance shows that the model has not learned how to effectively enhance the image.\n",
        "\n"
      ]
    },
    {
      "cell_type": "markdown",
      "metadata": {
        "id": "FKelgzkwDNzN"
      },
      "source": [
        "#### Calculation of the reward in the paper repository\n"
      ]
    },
    {
      "cell_type": "markdown",
      "metadata": {
        "id": "eYRso6lI8apw"
      },
      "source": [
        "Compared to the procedure described in the paper for calculating the reward, the one implemented in the code of the [repository](https://gitee.com/sunshixin_upc/underwater-image-enhancement-with-reinforcement-learning) provided by the authors is different:\n",
        "\n",
        "* at each step a score is calculated by making the MSE between the image obtained by applying the action and the reference image\n",
        "\n",
        "> $score_{t+1} = MSE(img_{t+1},img_t)$\n",
        "\n",
        "* the reward is calculated as the difference between the current score and the score of the previous step\n",
        "\n",
        "> $reward_{t+1} = score_{t+1} - score_t$\n",
        "\n",
        "The reward calculation in the notebook has been modified to test the method implemented in the repository."
      ]
    },
    {
      "cell_type": "code",
      "execution_count": null,
      "metadata": {
        "id": "sKYzflchV9_1"
      },
      "outputs": [],
      "source": [
        "#return the new reward and the new score that should be saved in the environment\n",
        "def repository_get_reward(previous_score, actual_image, target_image):\n",
        "  target_lab = skimage.color.rgb2lab(target_image)\n",
        "  data_lab = skimage.color.rgb2lab(actual_image)\n",
        "  new_score = mean_squared_error(target_lab, data_lab) #new score\n",
        "\n",
        "  #inverted new and previous score to not switch to reward minimization\n",
        "  new_reward = previous_score - new_score \n",
        "\n",
        "  return new_reward, new_score"
      ]
    },
    {
      "cell_type": "markdown",
      "metadata": {
        "id": "uji6bU7uiA0i"
      },
      "source": [
        "The test involved 10,000 episodes of 10 steps each, with a learning rate of 1e-5, while the other hyperparameters were left unchanged.\n",
        "\n",
        "<div>\n",
        "<img src=\"https://drive.google.com/uc?id=1Wv6NZqgKuvyf6n8FAo0rz6zCPhedsKwj\" />\n",
        "</div>"
      ]
    },
    {
      "cell_type": "markdown",
      "metadata": {
        "id": "POG6m8ublw9C"
      },
      "source": [
        "####Edit termination condition\n",
        "Another test performed was to try to eliminate the termination condition of negative q values. We've added one more action that returns the image as-is; when the model has nothing more to learn and undertakes it, then the episode is changed.\n",
        "\n",
        "The test included 10,000, with 20 steps, learning rate equal to 1e-4, while the other hyperparameters were left unchanged.\n",
        "\n",
        "![photo1677530862.jpeg](data:image/jpeg;base64,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)"
      ]
    },
    {
      "cell_type": "markdown",
      "metadata": {
        "id": "79Spqev69FsT"
      },
      "source": [
        "#### 20k episodi"
      ]
    },
    {
      "cell_type": "markdown",
      "metadata": {
        "id": "KCbBJMXK9KgH"
      },
      "source": [
        "Assuming that the number of training episodes was not adequate for the model to learn the target policy, a test was conducted with 20,000 episodes with a maximum number of steps of 20 actions for each episode (the other parameters were left to the configuration of default).\n",
        "\n",
        "In order to train the DDQN on the department's cluster, the training was divided into sessions of 2500 episodes each, saving the weights at the end of the session and then reloading them at the beginning of the next one: this expedient made it possible to carry out the training without the Slurm job went into Out-Of-Memory.\n"
      ]
    },
    {
      "cell_type": "markdown",
      "metadata": {
        "id": "XxwmTznJnLjQ"
      },
      "source": [
        "#### Performance recap"
      ]
    },
    {
      "cell_type": "markdown",
      "metadata": {
        "id": "OYqELTlpKzgg"
      },
      "source": [
        "The following table shows the results of the experiments carried out: the best result in terms of measured metrics was obtained following the test with 20,000 episodes.\n",
        "\n",
        "Method         | MSE(x$10^3$) $\\downarrow$ | PSNR $\\uparrow$ | SSIM $\\uparrow$\n",
        "---            | ---    | ---     | --- \n",
        "**lr 1e-5**    | **9.1822** | **8.7603** | **0.1078**\n",
        "**lr 1e-4**    | **7.7312** | **9.5924** | **0.1410**\n",
        "**argmin**     | **16.6831** | **6.0483** | **0.0075**\n",
        "**env con stessa immagine** | **14.0121** | **6.6658** | **0.0183**\n",
        "**reward con MSE** | **5.3699** | **11.1078** | **0.1847**\n",
        "**condizione di terminazione modificata** | **6.2999** | **20.1374** | **0.7912**\n",
        "**20k episodi** | **1.2215** | **17.2619** | **0.7219**"
      ]
    },
    {
      "cell_type": "markdown",
      "metadata": {
        "id": "Ah-biepDZI3d"
      },
      "source": [
        "## Performance analysis"
      ]
    },
    {
      "cell_type": "markdown",
      "metadata": {
        "id": "gErtQUnTz_VQ"
      },
      "source": [
        "To evaluate the effectiveness of the solution produced, some metrics calculated on the image produced compared to the reference one were evaluated. The calculated values ​​were then compared with those obtained with different methods addressing the same problem.\n",
        "\n",
        "In addition, the images produced in output were compared with those designated by those who built the dataset as ground truth. These reference images were produced without the use of deep learning, but through various image enhancement methods.\n"
      ]
    },
    {
      "cell_type": "markdown",
      "metadata": {
        "id": "TK01l8oKT1Pq"
      },
      "source": [
        "### Analisi qualitativa\n"
      ]
    },
    {
      "cell_type": "markdown",
      "metadata": {
        "id": "DQc6sNhMOBGT"
      },
      "source": [
        "Performance analysis\n",
        "To evaluate the effectiveness of the solution produced, some metrics calculated on the image produced compared to the reference one were evaluated. The calculated values ​​were then compared with those obtained with different methods addressing the same problem.\n",
        "\n",
        "In addition, the images produced in output were compared with those designated by those who built the dataset as ground truth. These reference images were produced without the use of deep learning, but through various image enhancement methods.\n",
        "\n",
        "Qualitative analysis\n",
        "Qualitative analysis concerns the evaluation of non-quantifiable data, in this case the quality of the improved images produced by the DDQN.\n",
        "\n",
        "Once the network which, following training, performed best on the validation set was identified, its effectiveness was tested on the images of the test set, a third set of images separate from the training and validation set.\n",
        "\n",
        "5 random images were taken from the test set and input to the DQN evaluation. The evaluation of the improved images produced made it possible to qualitatively evaluate the performances."
      ]
    },
    {
      "cell_type": "code",
      "execution_count": null,
      "metadata": {
        "id": "CPOh5qtXIpEH"
      },
      "outputs": [],
      "source": [
        "#qualitative analysis\n",
        "TEST_Episodes = 5\n",
        "ddqn.epsilon = 0 #setting epsilon to 0 to obtain only exploitation\n",
        "max_test_episode_step = 10 #similar to the value used from the authors of the paper\n",
        "\n",
        "for e_test in range(TEST_Episodes):\n",
        "  state = env.reset()\n",
        "  done = False\n",
        "  step_count = 1\n",
        "  while not done:\n",
        "    action = ddqn.select_action(state) #use eval dqn for predicting optimal action\n",
        "    new_state,_ = env.step(action) #apply action on the environment image\n",
        "    done = ddqn.check_if_done(state) #check if image can be improved\n",
        "    state = new_state #update state with new features\n",
        "    if done or step_count >= max_test_episode_step: \n",
        "      env.render()\n",
        "      break\n",
        "    step_count += 1"
      ]
    },
    {
      "cell_type": "markdown",
      "metadata": {
        "id": "9e5cobDDT1Sj"
      },
      "source": [
        "### Analisi quantitativa"
      ]
    },
    {
      "cell_type": "markdown",
      "metadata": {
        "id": "zTJyv-F4UpZm"
      },
      "source": [
        "Quantitative analysis is done by using quantifiable values ​​to conduct the assessment. Specifically, the metrics used to conduct the analysis are MSE, PSNR and SSIM (already described above).\n",
        "\n",
        "The values ​​are calculated in a similar way to what was done in the validation phase:\n",
        "\n",
        "* DQN evaluation is used to improve the raw image until the stop condition is reached or the maximum number of steps is reached\n",
        "\n",
        "* the value for the three metrics is calculated using the obtained image and the reference one\n",
        "\n",
        "* the first two points are repeated for each image of the test set and then an average of the values ​​obtained for each metric is calculated\n",
        "\n",
        "* the average values ​​obtained are used to compare the performance of the model to other solutions that have addressed the same problem"
      ]
    },
    {
      "cell_type": "code",
      "execution_count": null,
      "metadata": {
        "id": "DqpeYi1NWXE2"
      },
      "outputs": [],
      "source": [
        "#quantitative analysis\n",
        "ddqn.epsilon = 0 #setting epsilon to 0 to obtain only exploitation\n",
        "max_test_episode_step = 10 #similar to the value used from the authors of the paper\n",
        "total_mse = total_psnr = total_ssim = 0 #initialize metrics total counter\n",
        "\n",
        "for index, (raw_path,ref_path) in enumerate(zip(images_raw_test,images_ref_test)):\n",
        "  state = env.reset(raw_path, ref_path)\n",
        "  tot_rewards = 0\n",
        "  done = False\n",
        "  step_count = 1\n",
        "  while not done:\n",
        "    action = ddqn.select_action(state) #use eval dqn for predicting optimal action\n",
        "    new_state, reward = env.step(action) #apply action on the environment image\n",
        "    done = ddqn.check_if_done(state) #check if image can be improved\n",
        "    tot_rewards += reward #update total reward\n",
        "    state = new_state #update state with new features\n",
        "    if done or step_count >= max_test_episode_step: \n",
        "      #calculate metrics for the obtained image\n",
        "      mse = mean_squared_error(np.array(env.current_image), np.array(env.reference_image))\n",
        "      psnr = peak_signal_noise_ratio(np.array(env.current_image), np.array(env.reference_image))\n",
        "      ssim = structural_similarity(im1=np.array(env.current_image), im2=np.array(env.reference_image), multichannel=True)\n",
        "      print(\"episode: {}/{}, steps: {}, episode reward: {}\".format(index, len(images_raw_test), step_count, tot_rewards))\n",
        "      total_mse += mse\n",
        "      total_psnr += psnr\n",
        "      total_ssim += ssim\n",
        "      break\n",
        "    step_count += 1\n",
        "\n",
        "avg_mse = total_mse / len(images_raw_val)\n",
        "avg_psnr = total_psnr / len(images_raw_val)\n",
        "avg_ssim = total_ssim / len(images_raw_val)\n",
        "\n",
        "print(\"lr: {}, alpha: {}, beta: {}, episode: {} with max steps {}\".format(learning_rate,\n",
        "                                                                          alpha,\n",
        "                                                                          beta,\n",
        "                                                                          episodes,\n",
        "                                                                          episode_max_steps))\n",
        "print(\"avg mse: {}, avg_psnr: {}, avg ssim: {}\".format(avg_mse,\n",
        "                                                        avg_psnr,\n",
        "                                                        avg_ssim))"
      ]
    },
    {
      "cell_type": "markdown",
      "metadata": {
        "id": "487SuwjpK19X"
      },
      "source": [
        "## Comparison with other solutions"
      ]
    },
    {
      "cell_type": "markdown",
      "metadata": {
        "id": "zHfhlMFQAAht"
      },
      "source": [
        "The following table shows the results obtained on the test set of various models proposed by the papers from which it was inspired that deal with the same problem.\n",
        "\n",
        "As values ​​for the model implemented in this paper, those obtained in the testing phase from the model that presented the best performance in the validation phase were chosen.\n",
        "\n",
        "Method         | MSE(x$10^3$) $\\downarrow$ | PSNR $\\uparrow$ | SSIM $\\uparrow$\n",
        "---            | ---    | ---     | ---\n",
        "WaterNet       | 0.7976 | 19.1130 | 0.7971\n",
        "Water CycleGAN | 1.7298 | 15.7508 | 0.5210\n",
        "Dense GAN      | 1.2152 | 17.28.43| 0.4426\n",
        "**DDQN 20k episodi** | **2.1216** | **15.4687** | **0.6281**\n",
        "\n",
        "Although the model has obtained an appreciable result on the validation set, on the test set the performances are not very interesting. The model fails to generalize (overfitting) and, although the result could also depend on the size of the training set which is too small, it is possible that by increasing the number of training episodes, the model achieves better performance.  "
      ]
    },
    {
      "cell_type": "markdown",
      "metadata": {
        "id": "bQ0rWP93aMew"
      },
      "source": [
        "## Team contribution\n"
      ]
    },
    {
      "cell_type": "markdown",
      "metadata": {
        "id": "uKf8dZvclqW0"
      },
      "source": [
        "In this section we wanted to summarize the contribution of the team:\n",
        "\n",
        "* collection of Image Enhancement functions from different libraries\n",
        "\n",
        "* implementation of an environment that has as state a pair composed of a reference image and a raw image on which the actions are performed\n",
        "\n",
        "* implementation of a function that calculates the value (reward) which indicates the quality of the improvement made on the raw image compared to the reference image, i.e. if the image obtained is more or less similar to the ground truth\n",
        "\n",
        "* implementation of the framework to do Underwater Image Enhancement, based on the use of a DDQN trained on a dataset of underwater images to learn the optimal policy for selecting the actions to apply on the current image of the environment\n",
        "\n",
        "* training, validation and testing of the implemented network using different hyperparameter configurations and evaluating which allows to achieve the best performance\n",
        "\n",
        "* comparison of the results obtained with those of methods that have addressed the same problem"
      ]
    },
    {
      "cell_type": "markdown",
      "metadata": {
        "id": "eQeJiPpqK5zt"
      },
      "source": [
        "##Errors/Problems"
      ]
    },
    {
      "cell_type": "markdown",
      "metadata": {
        "id": "aZPmHMtbTqvV"
      },
      "source": [
        "Reinforcement learning requires long training sessions to learn and also needs careful calibration of hyperparameters.\n",
        "\n",
        "During the development of the project we took inspiration from the article from which the idea of ​​the project was born, while the authors' repository provided an implementation at times discordant from what is exposed in the article and the total reverse engineering of the code would have required a 'huge amount of time. For these two reasons it was decided to reimplement the system architecture.\n",
        "\n",
        "Furthermore, the repository code could not be executed due to a missing module. Therefore it was not possible to verify the effective validity of the solution.\n",
        "\n",
        "Some hyperparameters are not mentioned in the paper and have therefore been chosen independently. Some values ​​have instead been altered because they are considered not very sensible: for example, the article proposes to train the evaluation and update the target after each step. This means that the weights would be updated at each step and the fact of having two different models would not be exploited because they would always have the same weights.\n",
        "\n",
        "The tests carried out on the DISI HPC cluster suggested the inability of the model to learn the desired behavior. The agent did not learn and, at a certain point, tended to always choose the same action in exploitation (this happened with any choice of parameters). It was thought that this was due to the too low number of training episodes, but it was impossible to conduct longer sessions due to the memory available for the Slurm job: in particular, the job running on the cluster stops after about 3-4 hours due to of an Out-Of-Memory error. It was not possible to change the amount of memory allocated to the job due to lack of permissions to execute the required commands.\n",
        "\n",
        "**The test conducted by saving the weights at the end of the session and loading them at the start of the next training session showed that the model is able to learn, obtaining interesting results, but an even greater number of episodes are required to obtain excellent results.**"
      ]
    },
    {
      "cell_type": "markdown",
      "metadata": {
        "id": "mge-mJs1U5_q"
      },
      "source": [
        "## Literature references\n",
        "\n"
      ]
    },
    {
      "cell_type": "markdown",
      "metadata": {
        "id": "Bx94namyF7Vx"
      },
      "source": [
        "[1] Underwater Image Enhancement With Reinforcement Learning - https://ieeexplore.ieee.org/document/9751218\n",
        "\n",
        "[2] Chongyi Li, Chunle Guo, Wenqi Ren, Runmin Cong, Junhui Hou, Sam Kwong, Dacheng Tao - \n",
        "An Underwater Image Enhancement Benchmark Dataset and Beyond - https://ieeexplore.ieee.org/document/8917818\n",
        "\n",
        "[3] K. He, J. Sun, and X. Tang, “Single image haze removal using dark\n",
        "channel prior,” IEEE Trans. Pattern Anal. Mach. Intell., vol. 33, no. 12,\n",
        "pp. 2341–2353, Dec. 2011. - https://ieeexplore.ieee.org/document/5567108\n",
        "\n",
        "[4] Van Hasselt, H., Guez, A., & Silver, D. (2016, February). Deep Reinforcement Learning with Double Q-Learning. In AAAI (Vol. 2, p. 5), - https://arxiv.org/pdf/1509.06461.pdf"
      ]
    }
  ],
  "metadata": {
    "colab": {
      "provenance": [],
      "toc_visible": true
    },
    "kernelspec": {
      "display_name": "Python 3",
      "name": "python3"
    },
    "language_info": {
      "name": "python"
    }
  },
  "nbformat": 4,
  "nbformat_minor": 0
}